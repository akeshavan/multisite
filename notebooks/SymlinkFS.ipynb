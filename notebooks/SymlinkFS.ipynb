{
 "metadata": {
  "name": ""
 },
 "nbformat": 3,
 "nbformat_minor": 0,
 "worksheets": [
  {
   "cells": [
    {
     "cell_type": "heading",
     "level": 1,
     "metadata": {},
     "source": [
      "Symlink Freesurfer Directory"
     ]
    },
    {
     "cell_type": "markdown",
     "metadata": {},
     "source": [
      "All the ms patients surfaces are in /data/henry6/freesurfer. To make processing easier, we need the folder names to be the subject ids. THis quick script makes symbolic links to the main folder"
     ]
    },
    {
     "cell_type": "code",
     "collapsed": false,
     "input": [
      "import pandas as pd\n",
      "import os"
     ],
     "language": "python",
     "metadata": {},
     "outputs": [],
     "prompt_number": 3
    },
    {
     "cell_type": "code",
     "collapsed": false,
     "input": [
      "df = pd.read_csv(\"../data/dicominfo.csv\")"
     ],
     "language": "python",
     "metadata": {},
     "outputs": [],
     "prompt_number": 5
    },
    {
     "cell_type": "code",
     "collapsed": false,
     "input": [
      "subjects = df[\"subject_id\"].tolist()"
     ],
     "language": "python",
     "metadata": {},
     "outputs": [],
     "prompt_number": 7
    },
    {
     "cell_type": "code",
     "collapsed": false,
     "input": [
      "pattern = \"/data/henry6/freesurfer/%s_01_T1_reBUILD\"\n",
      "target = \"/data/henry6/keshavan/surf/%s\""
     ],
     "language": "python",
     "metadata": {},
     "outputs": [],
     "prompt_number": 12
    },
    {
     "cell_type": "code",
     "collapsed": false,
     "input": [
      "for s in subjects:\n",
      "    os.system(\"ln -s %s %s\"%(pattern%s,target%s))"
     ],
     "language": "python",
     "metadata": {},
     "outputs": [],
     "prompt_number": 13
    },
    {
     "cell_type": "code",
     "collapsed": false,
     "input": [
      "ls -la /data/henry6/keshavan/surf"
     ],
     "language": "python",
     "metadata": {},
     "outputs": [
      {
       "output_type": "stream",
       "stream": "stdout",
       "text": [
        "\u001b[00mtotal 9\r\n",
        "drwxrws--- 2 akeshavan henrylab 12 Mar  7  2014 \u001b[00;34m.\u001b[00m/\r\n",
        "drwxrws--- 7 akeshavan henrylab  7 Mar  7 12:12 \u001b[00;34m..\u001b[00m/\r\n",
        "lrwxrwxrwx 1 akeshavan henrylab 44 Mar  7  2014 \u001b[00;36mms1649\u001b[00m -> \u001b[00;34m/data/henry6/freesurfer/ms1649_01_T1_reBUILD\u001b[00m/\r\n",
        "lrwxrwxrwx 1 akeshavan henrylab 44 Mar  7  2014 \u001b[00;36mms1724\u001b[00m -> \u001b[00;34m/data/henry6/freesurfer/ms1724_01_T1_reBUILD\u001b[00m/\r\n",
        "lrwxrwxrwx 1 akeshavan henrylab 44 Mar  7  2014 \u001b[00;36mms1725\u001b[00m -> \u001b[00;34m/data/henry6/freesurfer/ms1725_01_T1_reBUILD\u001b[00m/\r\n",
        "lrwxrwxrwx 1 akeshavan henrylab 44 Mar  7  2014 \u001b[00;36mms1727\u001b[00m -> \u001b[00;34m/data/henry6/freesurfer/ms1727_01_T1_reBUILD\u001b[00m/\r\n",
        "lrwxrwxrwx 1 akeshavan henrylab 44 Mar  7  2014 \u001b[00;36mms1728\u001b[00m -> \u001b[00;34m/data/henry6/freesurfer/ms1728_01_T1_reBUILD\u001b[00m/\r\n",
        "lrwxrwxrwx 1 akeshavan henrylab 44 Mar  7  2014 \u001b[00;36mms1731\u001b[00m -> \u001b[00;34m/data/henry6/freesurfer/ms1731_01_T1_reBUILD\u001b[00m/\r\n",
        "lrwxrwxrwx 1 akeshavan henrylab 44 Mar  7  2014 \u001b[00;36mms1734\u001b[00m -> \u001b[00;34m/data/henry6/freesurfer/ms1734_01_T1_reBUILD\u001b[00m/\r\n",
        "lrwxrwxrwx 1 akeshavan henrylab 44 Mar  7  2014 \u001b[00;36mms1736\u001b[00m -> \u001b[00;34m/data/henry6/freesurfer/ms1736_01_T1_reBUILD\u001b[00m/\r\n",
        "lrwxrwxrwx 1 akeshavan henrylab 44 Mar  7  2014 \u001b[00;36mms1737\u001b[00m -> \u001b[00;34m/data/henry6/freesurfer/ms1737_01_T1_reBUILD\u001b[00m/\r\n",
        "lrwxrwxrwx 1 akeshavan henrylab 44 Mar  7  2014 \u001b[00;36mms1746\u001b[00m -> \u001b[00;34m/data/henry6/freesurfer/ms1746_01_T1_reBUILD\u001b[00m/\r\n",
        "\u001b[m"
       ]
      }
     ],
     "prompt_number": 15
    },
    {
     "cell_type": "code",
     "collapsed": false,
     "input": [],
     "language": "python",
     "metadata": {},
     "outputs": []
    }
   ],
   "metadata": {}
  }
 ]
}