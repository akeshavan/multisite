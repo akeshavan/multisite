{
 "metadata": {
  "name": ""
 },
 "nbformat": 3,
 "nbformat_minor": 0,
 "worksheets": [
  {
   "cells": [
    {
     "cell_type": "code",
     "collapsed": false,
     "input": [
      "%pylab inline\n",
      "import pandas as pd\n",
      "from utils import *"
     ],
     "language": "python",
     "metadata": {},
     "outputs": [
      {
       "output_type": "stream",
       "stream": "stdout",
       "text": [
        "Populating the interactive namespace from numpy and matplotlib\n"
       ]
      }
     ],
     "prompt_number": 1
    },
    {
     "cell_type": "code",
     "collapsed": false,
     "input": [
      "df = pd.read_csv(\"simulation_grid_cleaned.csv\")"
     ],
     "language": "python",
     "metadata": {},
     "outputs": [],
     "prompt_number": 44
    },
    {
     "cell_type": "code",
     "collapsed": false,
     "input": [
      "df"
     ],
     "language": "python",
     "metadata": {},
     "outputs": [
      {
       "html": [
        "<div style=\"max-height:1000px;max-width:1500px;overflow:auto;\">\n",
        "<table border=\"1\" class=\"dataframe\">\n",
        "  <thead>\n",
        "    <tr style=\"text-align: right;\">\n",
        "      <th></th>\n",
        "      <th>Unnamed: 0</th>\n",
        "      <th>delta_z</th>\n",
        "      <th>n_ms_site_0</th>\n",
        "      <th>d_dist_site_0</th>\n",
        "      <th>age_ms_range_site_0_hi</th>\n",
        "      <th>alpha_site_0</th>\n",
        "      <th>n_hc</th>\n",
        "    </tr>\n",
        "  </thead>\n",
        "  <tbody>\n",
        "    <tr>\n",
        "      <th>0 </th>\n",
        "      <td>  0</td>\n",
        "      <td> 0.81</td>\n",
        "      <td>  50</td>\n",
        "      <td> 0.65</td>\n",
        "      <td> 45</td>\n",
        "      <td> 0.7</td>\n",
        "      <td>  50</td>\n",
        "    </tr>\n",
        "    <tr>\n",
        "      <th>1 </th>\n",
        "      <td>  1</td>\n",
        "      <td> 0.99</td>\n",
        "      <td> 100</td>\n",
        "      <td> 0.65</td>\n",
        "      <td> 45</td>\n",
        "      <td> 0.7</td>\n",
        "      <td>  50</td>\n",
        "    </tr>\n",
        "    <tr>\n",
        "      <th>2 </th>\n",
        "      <td>  2</td>\n",
        "      <td> 1.68</td>\n",
        "      <td> 250</td>\n",
        "      <td> 0.65</td>\n",
        "      <td> 45</td>\n",
        "      <td> 0.7</td>\n",
        "      <td>  50</td>\n",
        "    </tr>\n",
        "    <tr>\n",
        "      <th>3 </th>\n",
        "      <td>  3</td>\n",
        "      <td> 1.56</td>\n",
        "      <td> 500</td>\n",
        "      <td> 0.65</td>\n",
        "      <td> 45</td>\n",
        "      <td> 0.7</td>\n",
        "      <td>  50</td>\n",
        "    </tr>\n",
        "    <tr>\n",
        "      <th>4 </th>\n",
        "      <td>  4</td>\n",
        "      <td>-1.63</td>\n",
        "      <td> 250</td>\n",
        "      <td> 0.65</td>\n",
        "      <td> 45</td>\n",
        "      <td> 0.7</td>\n",
        "      <td>  10</td>\n",
        "    </tr>\n",
        "    <tr>\n",
        "      <th>5 </th>\n",
        "      <td>  5</td>\n",
        "      <td> 0.86</td>\n",
        "      <td> 250</td>\n",
        "      <td> 0.65</td>\n",
        "      <td> 45</td>\n",
        "      <td> 0.7</td>\n",
        "      <td>  25</td>\n",
        "    </tr>\n",
        "    <tr>\n",
        "      <th>6 </th>\n",
        "      <td>  6</td>\n",
        "      <td> 1.26</td>\n",
        "      <td> 250</td>\n",
        "      <td> 0.65</td>\n",
        "      <td> 45</td>\n",
        "      <td> 0.7</td>\n",
        "      <td>  50</td>\n",
        "    </tr>\n",
        "    <tr>\n",
        "      <th>7 </th>\n",
        "      <td>  7</td>\n",
        "      <td> 1.92</td>\n",
        "      <td> 250</td>\n",
        "      <td> 0.65</td>\n",
        "      <td> 45</td>\n",
        "      <td> 0.7</td>\n",
        "      <td> 100</td>\n",
        "    </tr>\n",
        "    <tr>\n",
        "      <th>8 </th>\n",
        "      <td>  8</td>\n",
        "      <td> 0.39</td>\n",
        "      <td> 250</td>\n",
        "      <td> 0.88</td>\n",
        "      <td> 45</td>\n",
        "      <td> 0.7</td>\n",
        "      <td>  50</td>\n",
        "    </tr>\n",
        "    <tr>\n",
        "      <th>9 </th>\n",
        "      <td>  9</td>\n",
        "      <td> 1.16</td>\n",
        "      <td> 250</td>\n",
        "      <td> 0.75</td>\n",
        "      <td> 45</td>\n",
        "      <td> 0.7</td>\n",
        "      <td>  50</td>\n",
        "    </tr>\n",
        "    <tr>\n",
        "      <th>10</th>\n",
        "      <td> 10</td>\n",
        "      <td> 1.88</td>\n",
        "      <td> 250</td>\n",
        "      <td> 0.50</td>\n",
        "      <td> 45</td>\n",
        "      <td> 0.7</td>\n",
        "      <td>  50</td>\n",
        "    </tr>\n",
        "    <tr>\n",
        "      <th>11</th>\n",
        "      <td> 11</td>\n",
        "      <td> 2.30</td>\n",
        "      <td> 250</td>\n",
        "      <td> 0.25</td>\n",
        "      <td> 45</td>\n",
        "      <td> 0.7</td>\n",
        "      <td>  50</td>\n",
        "    </tr>\n",
        "    <tr>\n",
        "      <th>12</th>\n",
        "      <td> 12</td>\n",
        "      <td> 1.94</td>\n",
        "      <td> 250</td>\n",
        "      <td> 0.15</td>\n",
        "      <td> 45</td>\n",
        "      <td> 0.7</td>\n",
        "      <td>  50</td>\n",
        "    </tr>\n",
        "    <tr>\n",
        "      <th>13</th>\n",
        "      <td> 13</td>\n",
        "      <td> 0.45</td>\n",
        "      <td> 250</td>\n",
        "      <td> 0.88</td>\n",
        "      <td> 45</td>\n",
        "      <td> 0.7</td>\n",
        "      <td>  50</td>\n",
        "    </tr>\n",
        "    <tr>\n",
        "      <th>14</th>\n",
        "      <td> 14</td>\n",
        "      <td>-0.76</td>\n",
        "      <td> 250</td>\n",
        "      <td> 0.88</td>\n",
        "      <td> 45</td>\n",
        "      <td> 0.7</td>\n",
        "      <td>  50</td>\n",
        "    </tr>\n",
        "    <tr>\n",
        "      <th>15</th>\n",
        "      <td> 15</td>\n",
        "      <td>-0.90</td>\n",
        "      <td> 250</td>\n",
        "      <td> 0.88</td>\n",
        "      <td> 45</td>\n",
        "      <td> 0.7</td>\n",
        "      <td>  50</td>\n",
        "    </tr>\n",
        "    <tr>\n",
        "      <th>16</th>\n",
        "      <td> 16</td>\n",
        "      <td> 0.57</td>\n",
        "      <td> 250</td>\n",
        "      <td> 0.88</td>\n",
        "      <td> 45</td>\n",
        "      <td> 0.7</td>\n",
        "      <td>  50</td>\n",
        "    </tr>\n",
        "    <tr>\n",
        "      <th>17</th>\n",
        "      <td> 17</td>\n",
        "      <td> 0.61</td>\n",
        "      <td> 250</td>\n",
        "      <td> 0.88</td>\n",
        "      <td> 45</td>\n",
        "      <td> 0.7</td>\n",
        "      <td>  50</td>\n",
        "    </tr>\n",
        "    <tr>\n",
        "      <th>18</th>\n",
        "      <td> 18</td>\n",
        "      <td>-0.10</td>\n",
        "      <td> 250</td>\n",
        "      <td> 0.65</td>\n",
        "      <td> 45</td>\n",
        "      <td> 0.9</td>\n",
        "      <td>  50</td>\n",
        "    </tr>\n",
        "    <tr>\n",
        "      <th>19</th>\n",
        "      <td> 19</td>\n",
        "      <td> 0.73</td>\n",
        "      <td> 250</td>\n",
        "      <td> 0.65</td>\n",
        "      <td> 45</td>\n",
        "      <td> 0.8</td>\n",
        "      <td>  50</td>\n",
        "    </tr>\n",
        "    <tr>\n",
        "      <th>20</th>\n",
        "      <td> 20</td>\n",
        "      <td> 1.62</td>\n",
        "      <td> 250</td>\n",
        "      <td> 0.65</td>\n",
        "      <td> 45</td>\n",
        "      <td> 0.7</td>\n",
        "      <td>  50</td>\n",
        "    </tr>\n",
        "    <tr>\n",
        "      <th>21</th>\n",
        "      <td> 21</td>\n",
        "      <td> 2.34</td>\n",
        "      <td> 250</td>\n",
        "      <td> 0.65</td>\n",
        "      <td> 45</td>\n",
        "      <td> 0.6</td>\n",
        "      <td>  50</td>\n",
        "    </tr>\n",
        "    <tr>\n",
        "      <th>22</th>\n",
        "      <td> 22</td>\n",
        "      <td> 2.99</td>\n",
        "      <td> 250</td>\n",
        "      <td> 0.65</td>\n",
        "      <td> 45</td>\n",
        "      <td> 0.5</td>\n",
        "      <td>  50</td>\n",
        "    </tr>\n",
        "    <tr>\n",
        "      <th>23</th>\n",
        "      <td> 23</td>\n",
        "      <td> 1.56</td>\n",
        "      <td> 250</td>\n",
        "      <td> 0.65</td>\n",
        "      <td> 30</td>\n",
        "      <td> 0.7</td>\n",
        "      <td>  50</td>\n",
        "    </tr>\n",
        "    <tr>\n",
        "      <th>24</th>\n",
        "      <td> 24</td>\n",
        "      <td> 1.15</td>\n",
        "      <td> 250</td>\n",
        "      <td> 0.65</td>\n",
        "      <td> 45</td>\n",
        "      <td> 0.7</td>\n",
        "      <td>  50</td>\n",
        "    </tr>\n",
        "    <tr>\n",
        "      <th>25</th>\n",
        "      <td> 25</td>\n",
        "      <td> 1.50</td>\n",
        "      <td> 250</td>\n",
        "      <td> 0.65</td>\n",
        "      <td> 60</td>\n",
        "      <td> 0.7</td>\n",
        "      <td>  50</td>\n",
        "    </tr>\n",
        "    <tr>\n",
        "      <th>26</th>\n",
        "      <td> 26</td>\n",
        "      <td> 1.37</td>\n",
        "      <td> 250</td>\n",
        "      <td> 0.65</td>\n",
        "      <td> 75</td>\n",
        "      <td> 0.7</td>\n",
        "      <td>  50</td>\n",
        "    </tr>\n",
        "    <tr>\n",
        "      <th>27</th>\n",
        "      <td> 27</td>\n",
        "      <td> 1.26</td>\n",
        "      <td> 250</td>\n",
        "      <td> 0.65</td>\n",
        "      <td> 45</td>\n",
        "      <td> 0.7</td>\n",
        "      <td>  50</td>\n",
        "    </tr>\n",
        "    <tr>\n",
        "      <th>28</th>\n",
        "      <td> 28</td>\n",
        "      <td> 1.44</td>\n",
        "      <td> 250</td>\n",
        "      <td> 0.65</td>\n",
        "      <td> 45</td>\n",
        "      <td> 0.7</td>\n",
        "      <td>  50</td>\n",
        "    </tr>\n",
        "    <tr>\n",
        "      <th>29</th>\n",
        "      <td> 29</td>\n",
        "      <td> 1.23</td>\n",
        "      <td> 250</td>\n",
        "      <td> 0.65</td>\n",
        "      <td> 45</td>\n",
        "      <td> 0.7</td>\n",
        "      <td>  50</td>\n",
        "    </tr>\n",
        "    <tr>\n",
        "      <th>30</th>\n",
        "      <td> 30</td>\n",
        "      <td> 1.76</td>\n",
        "      <td> 250</td>\n",
        "      <td> 0.65</td>\n",
        "      <td> 45</td>\n",
        "      <td> 0.7</td>\n",
        "      <td>  50</td>\n",
        "    </tr>\n",
        "    <tr>\n",
        "      <th>31</th>\n",
        "      <td> 31</td>\n",
        "      <td> 1.24</td>\n",
        "      <td> 250</td>\n",
        "      <td> 0.65</td>\n",
        "      <td> 45</td>\n",
        "      <td> 0.7</td>\n",
        "      <td>  50</td>\n",
        "    </tr>\n",
        "    <tr>\n",
        "      <th>32</th>\n",
        "      <td> 32</td>\n",
        "      <td> 0.31</td>\n",
        "      <td>  50</td>\n",
        "      <td> 0.65</td>\n",
        "      <td> 45</td>\n",
        "      <td> 0.7</td>\n",
        "      <td>  50</td>\n",
        "    </tr>\n",
        "    <tr>\n",
        "      <th>33</th>\n",
        "      <td> 33</td>\n",
        "      <td> 0.78</td>\n",
        "      <td> 100</td>\n",
        "      <td> 0.65</td>\n",
        "      <td> 45</td>\n",
        "      <td> 0.7</td>\n",
        "      <td>  50</td>\n",
        "    </tr>\n",
        "    <tr>\n",
        "      <th>34</th>\n",
        "      <td> 34</td>\n",
        "      <td> 1.85</td>\n",
        "      <td> 250</td>\n",
        "      <td> 0.65</td>\n",
        "      <td> 45</td>\n",
        "      <td> 0.7</td>\n",
        "      <td>  50</td>\n",
        "    </tr>\n",
        "    <tr>\n",
        "      <th>35</th>\n",
        "      <td> 35</td>\n",
        "      <td> 2.14</td>\n",
        "      <td> 500</td>\n",
        "      <td> 0.65</td>\n",
        "      <td> 45</td>\n",
        "      <td> 0.7</td>\n",
        "      <td>  50</td>\n",
        "    </tr>\n",
        "    <tr>\n",
        "      <th>36</th>\n",
        "      <td> 36</td>\n",
        "      <td> 1.96</td>\n",
        "      <td> 750</td>\n",
        "      <td> 0.65</td>\n",
        "      <td> 45</td>\n",
        "      <td> 0.7</td>\n",
        "      <td>  50</td>\n",
        "    </tr>\n",
        "  </tbody>\n",
        "</table>\n",
        "</div>"
       ],
       "metadata": {},
       "output_type": "pyout",
       "prompt_number": 45,
       "text": [
        "    Unnamed: 0  delta_z  n_ms_site_0  d_dist_site_0  age_ms_range_site_0_hi  \\\n",
        "0            0     0.81           50           0.65                      45   \n",
        "1            1     0.99          100           0.65                      45   \n",
        "2            2     1.68          250           0.65                      45   \n",
        "3            3     1.56          500           0.65                      45   \n",
        "4            4    -1.63          250           0.65                      45   \n",
        "5            5     0.86          250           0.65                      45   \n",
        "6            6     1.26          250           0.65                      45   \n",
        "7            7     1.92          250           0.65                      45   \n",
        "8            8     0.39          250           0.88                      45   \n",
        "9            9     1.16          250           0.75                      45   \n",
        "10          10     1.88          250           0.50                      45   \n",
        "11          11     2.30          250           0.25                      45   \n",
        "12          12     1.94          250           0.15                      45   \n",
        "13          13     0.45          250           0.88                      45   \n",
        "14          14    -0.76          250           0.88                      45   \n",
        "15          15    -0.90          250           0.88                      45   \n",
        "16          16     0.57          250           0.88                      45   \n",
        "17          17     0.61          250           0.88                      45   \n",
        "18          18    -0.10          250           0.65                      45   \n",
        "19          19     0.73          250           0.65                      45   \n",
        "20          20     1.62          250           0.65                      45   \n",
        "21          21     2.34          250           0.65                      45   \n",
        "22          22     2.99          250           0.65                      45   \n",
        "23          23     1.56          250           0.65                      30   \n",
        "24          24     1.15          250           0.65                      45   \n",
        "25          25     1.50          250           0.65                      60   \n",
        "26          26     1.37          250           0.65                      75   \n",
        "27          27     1.26          250           0.65                      45   \n",
        "28          28     1.44          250           0.65                      45   \n",
        "29          29     1.23          250           0.65                      45   \n",
        "30          30     1.76          250           0.65                      45   \n",
        "31          31     1.24          250           0.65                      45   \n",
        "32          32     0.31           50           0.65                      45   \n",
        "33          33     0.78          100           0.65                      45   \n",
        "34          34     1.85          250           0.65                      45   \n",
        "35          35     2.14          500           0.65                      45   \n",
        "36          36     1.96          750           0.65                      45   \n",
        "\n",
        "    alpha_site_0  n_hc  \n",
        "0            0.7    50  \n",
        "1            0.7    50  \n",
        "2            0.7    50  \n",
        "3            0.7    50  \n",
        "4            0.7    10  \n",
        "5            0.7    25  \n",
        "6            0.7    50  \n",
        "7            0.7   100  \n",
        "8            0.7    50  \n",
        "9            0.7    50  \n",
        "10           0.7    50  \n",
        "11           0.7    50  \n",
        "12           0.7    50  \n",
        "13           0.7    50  \n",
        "14           0.7    50  \n",
        "15           0.7    50  \n",
        "16           0.7    50  \n",
        "17           0.7    50  \n",
        "18           0.9    50  \n",
        "19           0.8    50  \n",
        "20           0.7    50  \n",
        "21           0.6    50  \n",
        "22           0.5    50  \n",
        "23           0.7    50  \n",
        "24           0.7    50  \n",
        "25           0.7    50  \n",
        "26           0.7    50  \n",
        "27           0.7    50  \n",
        "28           0.7    50  \n",
        "29           0.7    50  \n",
        "30           0.7    50  \n",
        "31           0.7    50  \n",
        "32           0.7    50  \n",
        "33           0.7    50  \n",
        "34           0.7    50  \n",
        "35           0.7    50  \n",
        "36           0.7    50  "
       ]
      }
     ],
     "prompt_number": 45
    },
    {
     "cell_type": "code",
     "collapsed": false,
     "input": [
      "df.columns[2:]"
     ],
     "language": "python",
     "metadata": {},
     "outputs": [
      {
       "metadata": {},
       "output_type": "pyout",
       "prompt_number": 46,
       "text": [
        "Index([u'n_ms_site_0', u'd_dist_site_0', u'age_ms_range_site_0_hi', u'alpha_site_0', u'n_hc'], dtype=object)"
       ]
      }
     ],
     "prompt_number": 46
    },
    {
     "cell_type": "code",
     "collapsed": false,
     "input": [
      "data = []\n",
      "for c in df.columns[2:]:\n",
      "    data.append(df[c].tolist())\n",
      "model = run_model(data,df.delta_z,yname=\"deltaz\",xnames=[\"const\"]+df.columns[2:].tolist())"
     ],
     "language": "python",
     "metadata": {},
     "outputs": [
      {
       "output_type": "stream",
       "stream": "stdout",
       "text": [
        "                            OLS Regression Results                            \n",
        "==============================================================================\n",
        "Dep. Variable:                 deltaz   R-squared:                       0.685\n",
        "Model:                            OLS   Adj. R-squared:                  0.634\n",
        "Method:                 Least Squares   F-statistic:                     13.47\n",
        "Date:                Mon, 24 Mar 2014   Prob (F-statistic):           5.16e-07\n",
        "Time:                        18:02:10   Log-Likelihood:                -28.216\n",
        "No. Observations:                  37   AIC:                             68.43\n",
        "Df Residuals:                      31   BIC:                             78.10\n",
        "Df Model:                           5                                         \n",
        "==========================================================================================\n",
        "                             coef    std err          t      P>|t|      [95.0% Conf. Int.]\n",
        "------------------------------------------------------------------------------------------\n",
        "const                      6.3801      1.579      4.040      0.000         3.159     9.601\n",
        "n_ms_site_0                0.0021      0.001      2.648      0.013         0.000     0.004\n",
        "d_dist_site_0             -3.2600      0.652     -4.997      0.000        -4.590    -1.930\n",
        "age_ms_range_site_0_hi     0.0037      0.016      0.240      0.812        -0.028     0.035\n",
        "alpha_site_0              -7.7900      1.792     -4.347      0.000       -11.445    -4.135\n",
        "n_hc                       0.0333      0.008      4.035      0.000         0.016     0.050\n",
        "==============================================================================\n",
        "Omnibus:                       14.633   Durbin-Watson:                   1.609\n",
        "Prob(Omnibus):                  0.001   Jarque-Bera (JB):               15.430\n",
        "Skew:                          -1.431   Prob(JB):                     0.000446\n",
        "Kurtosis:                       4.348   Cond. No.                     7.05e+03\n",
        "==============================================================================\n",
        "\n",
        "Warnings:\n",
        "[1] The condition number is large, 7.05e+03. This might indicate that there are\n",
        "strong multicollinearity or other numerical problems.\n"
       ]
      }
     ],
     "prompt_number": 47
    },
    {
     "cell_type": "code",
     "collapsed": false,
     "input": [
      "import prettyplotlib as ppl\n",
      "fig,ax = subplots(1,1)\n",
      "ppl.pcolormesh(fig,ax,np.corrcoef(df[df.columns[2:]].T))\n",
      "ax.set_xticks(arange(5)+0.5)\n",
      "ax.set_yticks(arange(5)+0.5)\n",
      "ax.set_xticklabels(df.columns[2:].tolist(),rotation=90);\n",
      "ax.set_yticklabels(df.columns[2:].tolist(),rotation=0);"
     ],
     "language": "python",
     "metadata": {},
     "outputs": [
      {
       "metadata": {},
       "output_type": "display_data",
       "png": "[encoded data removed]",
       "text": [
        "<matplotlib.figure.Figure at 0x10370c90>"
       ]
      }
     ],
     "prompt_number": 48
    },
    {
     "cell_type": "code",
     "collapsed": false,
     "input": [
      "df2 = pd.read_csv(\"simulation_grid.csv\")"
     ],
     "language": "python",
     "metadata": {},
     "outputs": [],
     "prompt_number": 49
    },
    {
     "cell_type": "code",
     "collapsed": false,
     "input": [
      "fig,ax = subplots(1,1)\n",
      "corr = np.corrcoef(df2[df2.columns[2:]].T)\n",
      "corr[np.isnan(corr)] = 1\n",
      "ppl.pcolormesh(fig,ax,corr)\n",
      "k = len(df2.columns[2:])\n",
      "ax.set_xticks(arange(k)+0.5)\n",
      "ax.set_yticks(arange(k)+0.5)\n",
      "ax.set_xticklabels(df2.columns[2:].tolist(),rotation=90);\n",
      "ax.set_yticklabels(df2.columns[2:].tolist(),rotation=0);"
     ],
     "language": "python",
     "metadata": {},
     "outputs": [
      {
       "metadata": {},
       "output_type": "display_data",
       "png": "[encoded data removed]",
       "text": [
        "<matplotlib.figure.Figure at 0x10b5f350>"
       ]
      }
     ],
     "prompt_number": 55
    },
    {
     "cell_type": "code",
     "collapsed": false,
     "input": [
      "idx = np.abs(corr)>0.9"
     ],
     "language": "python",
     "metadata": {},
     "outputs": [],
     "prompt_number": 95
    },
    {
     "cell_type": "code",
     "collapsed": false,
     "input": [
      "good_idx=np.sum(idx,axis=0)<k"
     ],
     "language": "python",
     "metadata": {},
     "outputs": [],
     "prompt_number": 96
    },
    {
     "cell_type": "code",
     "collapsed": false,
     "input": [
      "fig,ax = subplots(1,1)\n",
      "ppl.pcolormesh(fig,ax,corr[good_idx,:][:,good_idx])\n",
      "ax.set_xticks(arange(sum(good_idx))+0.5)\n",
      "ax.set_yticks(arange(sum(good_idx))+0.5)\n",
      "ax.set_xticklabels(df2.columns[2:][good_idx],rotation=90);\n",
      "ax.set_yticklabels(df2.columns[2:][good_idx],rotation=0);"
     ],
     "language": "python",
     "metadata": {},
     "outputs": [
      {
       "metadata": {},
       "output_type": "display_data",
       "png": "[encoded data removed]",
       "text": [
        "<matplotlib.figure.Figure at 0x102a63d0>"
       ]
      }
     ],
     "prompt_number": 97
    },
    {
     "cell_type": "code",
     "collapsed": false,
     "input": [
      "data = []\n",
      "for c in df2.columns[2:][good_idx]:\n",
      "    data.append(df2[c].tolist())"
     ],
     "language": "python",
     "metadata": {},
     "outputs": [],
     "prompt_number": 98
    },
    {
     "cell_type": "code",
     "collapsed": false,
     "input": [
      "model = run_model(data,df2.delta_z,yname=\"deltaz\",xnames=[\"const\"]+df2.columns[2:][good_idx].tolist())"
     ],
     "language": "python",
     "metadata": {},
     "outputs": [
      {
       "output_type": "stream",
       "stream": "stdout",
       "text": [
        "                            OLS Regression Results                            \n",
        "==============================================================================\n",
        "Dep. Variable:                 deltaz   R-squared:                       0.703\n",
        "Model:                            OLS   Adj. R-squared:                  0.618\n",
        "Method:                 Least Squares   F-statistic:                     8.287\n",
        "Date:                Mon, 24 Mar 2014   Prob (F-statistic):           1.07e-05\n",
        "Time:                        18:29:17   Log-Likelihood:                -27.123\n",
        "No. Observations:                  37   AIC:                             72.25\n",
        "Df Residuals:                      28   BIC:                             86.74\n",
        "Df Model:                           8                                         \n",
        "==========================================================================================\n",
        "                             coef    std err          t      P>|t|      [95.0% Conf. Int.]\n",
        "------------------------------------------------------------------------------------------\n",
        "const                     -0.3661      0.599     -0.611      0.546        -1.594     0.862\n",
        "n_ms_site_0                0.0020      0.001      2.336      0.027         0.000     0.004\n",
        "n_ms_site_1                0.0005      0.001      0.724      0.475        -0.001     0.002\n",
        "d_dist_site_0             -2.9933      0.756     -3.959      0.000        -4.542    -1.445\n",
        "d_dist_site_1              0.4338      0.670      0.648      0.523        -0.938     1.806\n",
        "age_ms_range_site_0_hi    -0.0014      0.017     -0.081      0.936        -0.037     0.034\n",
        "age_ms_range_site_1_hi    -0.0091      0.011     -0.806      0.427        -0.032     0.014\n",
        "alpha_site_0              -4.2648      1.238     -3.445      0.002        -6.801    -1.729\n",
        "alpha_site_1               3.5326      0.929      3.804      0.001         1.631     5.435\n",
        "n_hc                       0.0331      0.008      3.932      0.001         0.016     0.050\n",
        "==============================================================================\n",
        "Omnibus:                       11.914   Durbin-Watson:                   1.624\n",
        "Prob(Omnibus):                  0.003   Jarque-Bera (JB):               11.560\n",
        "Skew:                          -1.279   Prob(JB):                      0.00309\n",
        "Kurtosis:                       3.976   Cond. No.                     9.08e+09\n",
        "==============================================================================\n",
        "\n",
        "Warnings:\n",
        "[1] The smallest eigenvalue is 5.45e-14. This might indicate that there are\n",
        "strong multicollinearity problems or that the design matrix is singular.\n"
       ]
      }
     ],
     "prompt_number": 99
    },
    {
     "cell_type": "heading",
     "level": 2,
     "metadata": {},
     "source": [
      "grid the grid"
     ]
    },
    {
     "cell_type": "code",
     "collapsed": false,
     "input": [
      "params = {'n_hc':50, #number of controls\n",
      "          'n_ms':[250,250], #number of MS patients at each site\n",
      "          'age_hc_range':(20,52), # Age range of the controls\n",
      "          'age_ms_range':[(20,45),(20,45)], # Age range of MS patients at each site\n",
      "          'd_dist':[.88,.88], # Distribution weighting of EDSS scores for each site\n",
      "          'alpha_a':-3, # Real coefficient of age\n",
      "          'alpha_d':[-16,-16], # Real coefficient of EDSS score\n",
      "          'b0':1644, #Brain Volume Intercept (in ccs)\n",
      "          'sig_b':[57,57], # Brain variation across subjects (in ccs) for each site\n",
      "          'sig_s':[16,16], # Variability in brain volume measurement across scanners for each site\n",
      "          'alpha':[1,1], # Scaling of each scanner\n",
      "          'gamma':[20,-20] # Offset of each scanner\n",
      "          }"
     ],
     "language": "python",
     "metadata": {},
     "outputs": [],
     "prompt_number": 102
    },
    {
     "cell_type": "code",
     "collapsed": false,
     "input": [
      "iter_params = {\"n_ms\":[[250,250],[100,100],[250,100],[100,250]],\n",
      "               \"d_dist\":[[0.88,0.88],[0.5,0.88],[0.88,0.5],[0.5,0.5]],\n",
      "               \"alpha\":[[0.5,1.1],[0.9,1.1],[1.1,0.5],[1.1,0.9]],\n",
      "               \"age_ms_range\":[[(20,45),(20,45)],[(20,45),(20,75)],[(20,75),(20,45)]]\n",
      "               }\n"
     ],
     "language": "python",
     "metadata": {},
     "outputs": [],
     "prompt_number": 157
    },
    {
     "cell_type": "code",
     "collapsed": false,
     "input": [
      "#cz,ez,iz,zz, cp,ep,ip,zp,ccc,ecc,icc,zcc = grid(a,iter_params[key],key,100)\n",
      "#diff_dis = zz[-1,:,:] + zcc[2,:,:]\n",
      "#df = add_grid(diff_dis,'n_ms',a,n_ms_range,df)"
     ],
     "language": "python",
     "metadata": {},
     "outputs": [],
     "prompt_number": 104
    },
    {
     "cell_type": "code",
     "collapsed": false,
     "input": [
      "df = init_df(params)"
     ],
     "language": "python",
     "metadata": {},
     "outputs": [],
     "prompt_number": 105
    },
    {
     "cell_type": "code",
     "collapsed": false,
     "input": [
      "def goo(params,all_keys,key_idx,df):\n",
      "    #try: print len(df)\n",
      "    #except TypeError: print params, all_keys, idx; raise Exception(\"Anisha = confused\")\n",
      "    if key_idx < len(all_keys):\n",
      "        for x in iter_params[all_keys[key_idx]]:\n",
      "            params[all_keys[key_idx]] = x\n",
      "            print \"\\t\"*key_idx,all_keys[key_idx],x\n",
      "            df = goo(params,all_keys, key_idx+1,df)\n",
      "        return df\n",
      "    else:\n",
      "        print \"\\t\"*key_idx+\"running model\"\n",
      "        cz,ez,iz,zz, cp,ep,ip,zp,ccc,ecc,icc,zcc = grid(params,[10,25,50,100],'n_hc',50)\n",
      "        diff_dis = zz[-1,:,:] + zcc[2,:,:]\n",
      "        df = add_grid(diff_dis,'n_hc',params,[10,25,50,100],df)\n",
      "        df.to_csv(\"grid_tmp.csv\")\n",
      "        return df"
     ],
     "language": "python",
     "metadata": {},
     "outputs": [],
     "prompt_number": 106
    },
    {
     "cell_type": "code",
     "collapsed": false,
     "input": [
      "df = goo(params,iter_params.keys(),0,df)"
     ],
     "language": "python",
     "metadata": {},
     "outputs": [
      {
       "output_type": "stream",
       "stream": "stdout",
       "text": [
        " n_ms [250, 250]\n",
        "\talpha [0.5, 1.1]\n",
        "\t\td_dist [0.88, 0.88]\n",
        "\t\t\trunning model\n",
        "\t\t"
       ]
      },
      {
       "output_type": "stream",
       "stream": "stdout",
       "text": [
        "d_dist [0.5, 0.88]\n",
        "\t\t\trunning model\n",
        "\t\t"
       ]
      },
      {
       "output_type": "stream",
       "stream": "stdout",
       "text": [
        "d_dist [0.88, 0.5]\n",
        "\t\t\trunning model\n",
        "\t\t"
       ]
      },
      {
       "output_type": "stream",
       "stream": "stdout",
       "text": [
        "d_dist [0.5, 0.5]\n",
        "\t\t\trunning model\n",
        "\t"
       ]
      },
      {
       "output_type": "stream",
       "stream": "stdout",
       "text": [
        "alpha [0.9, 1.1]\n",
        "\t\td_dist [0.88, 0.88]\n",
        "\t\t\trunning model\n",
        "\t\t"
       ]
      },
      {
       "output_type": "stream",
       "stream": "stdout",
       "text": [
        "d_dist [0.5, 0.88]\n",
        "\t\t\trunning model\n",
        "\t\t"
       ]
      },
      {
       "output_type": "stream",
       "stream": "stdout",
       "text": [
        "d_dist [0.88, 0.5]\n",
        "\t\t\trunning model\n",
        "\t\t"
       ]
      },
      {
       "output_type": "stream",
       "stream": "stdout",
       "text": [
        "d_dist [0.5, 0.5]\n",
        "\t\t\trunning model\n",
        "\t"
       ]
      },
      {
       "output_type": "stream",
       "stream": "stdout",
       "text": [
        "alpha [1.1, 0.5]\n",
        "\t\td_dist [0.88, 0.88]\n",
        "\t\t\trunning model\n",
        "\t\t"
       ]
      },
      {
       "output_type": "stream",
       "stream": "stdout",
       "text": [
        "d_dist [0.5, 0.88]\n",
        "\t\t\trunning model\n",
        "\t\t"
       ]
      },
      {
       "output_type": "stream",
       "stream": "stdout",
       "text": [
        "d_dist [0.88, 0.5]\n",
        "\t\t\trunning model\n",
        "\t\t"
       ]
      },
      {
       "output_type": "stream",
       "stream": "stdout",
       "text": [
        "d_dist [0.5, 0.5]\n",
        "\t\t\trunning model\n",
        "\t"
       ]
      },
      {
       "output_type": "stream",
       "stream": "stdout",
       "text": [
        "alpha [1.1, 0.9]\n",
        "\t\td_dist [0.88, 0.88]\n",
        "\t\t\trunning model\n",
        "\t\t"
       ]
      },
      {
       "output_type": "stream",
       "stream": "stdout",
       "text": [
        "d_dist [0.5, 0.88]\n",
        "\t\t\trunning model\n",
        "\t\t"
       ]
      },
      {
       "output_type": "stream",
       "stream": "stdout",
       "text": [
        "d_dist [0.88, 0.5]\n",
        "\t\t\trunning model\n",
        "\t\t"
       ]
      },
      {
       "output_type": "stream",
       "stream": "stdout",
       "text": [
        "d_dist [0.5, 0.5]\n",
        "\t\t\trunning model\n"
       ]
      },
      {
       "output_type": "stream",
       "stream": "stdout",
       "text": [
        " n_ms [100, 100]\n",
        "\talpha [0.5, 1.1]\n",
        "\t\td_dist [0.88, 0.88]\n",
        "\t\t\trunning model\n",
        "\t\t"
       ]
      },
      {
       "output_type": "stream",
       "stream": "stdout",
       "text": [
        "d_dist [0.5, 0.88]\n",
        "\t\t\trunning model\n",
        "\t\t"
       ]
      },
      {
       "output_type": "stream",
       "stream": "stdout",
       "text": [
        "d_dist [0.88, 0.5]\n",
        "\t\t\trunning model\n",
        "\t\t"
       ]
      },
      {
       "output_type": "stream",
       "stream": "stdout",
       "text": [
        "d_dist [0.5, 0.5]\n",
        "\t\t\trunning model\n",
        "\t"
       ]
      },
      {
       "output_type": "stream",
       "stream": "stdout",
       "text": [
        "alpha [0.9, 1.1]\n",
        "\t\td_dist [0.88, 0.88]\n",
        "\t\t\trunning model\n",
        "\t\t"
       ]
      },
      {
       "output_type": "stream",
       "stream": "stdout",
       "text": [
        "d_dist [0.5, 0.88]\n",
        "\t\t\trunning model\n",
        "\t\t"
       ]
      },
      {
       "output_type": "stream",
       "stream": "stdout",
       "text": [
        "d_dist [0.88, 0.5]\n",
        "\t\t\trunning model\n",
        "\t\t"
       ]
      },
      {
       "output_type": "stream",
       "stream": "stdout",
       "text": [
        "d_dist [0.5, 0.5]\n",
        "\t\t\trunning model\n",
        "\t"
       ]
      },
      {
       "output_type": "stream",
       "stream": "stdout",
       "text": [
        "alpha [1.1, 0.5]\n",
        "\t\td_dist [0.88, 0.88]\n",
        "\t\t\trunning model\n",
        "\t\t"
       ]
      },
      {
       "output_type": "stream",
       "stream": "stdout",
       "text": [
        "d_dist [0.5, 0.88]\n",
        "\t\t\trunning model\n",
        "\t\t"
       ]
      },
      {
       "output_type": "stream",
       "stream": "stdout",
       "text": [
        "d_dist [0.88, 0.5]\n",
        "\t\t\trunning model\n",
        "\t\t"
       ]
      },
      {
       "output_type": "stream",
       "stream": "stdout",
       "text": [
        "d_dist [0.5, 0.5]\n",
        "\t\t\trunning model\n",
        "\t"
       ]
      },
      {
       "output_type": "stream",
       "stream": "stdout",
       "text": [
        "alpha [1.1, 0.9]\n",
        "\t\td_dist [0.88, 0.88]\n",
        "\t\t\trunning model\n",
        "\t\t"
       ]
      },
      {
       "output_type": "stream",
       "stream": "stdout",
       "text": [
        "d_dist [0.5, 0.88]\n",
        "\t\t\trunning model\n",
        "\t\t"
       ]
      },
      {
       "output_type": "stream",
       "stream": "stdout",
       "text": [
        "d_dist [0.88, 0.5]\n",
        "\t\t\trunning model\n",
        "\t\t"
       ]
      },
      {
       "output_type": "stream",
       "stream": "stdout",
       "text": [
        "d_dist [0.5, 0.5]\n",
        "\t\t\trunning model\n"
       ]
      },
      {
       "output_type": "stream",
       "stream": "stdout",
       "text": [
        " n_ms [250, 100]\n",
        "\talpha [0.5, 1.1]\n",
        "\t\td_dist [0.88, 0.88]\n",
        "\t\t\trunning model\n",
        "\t\t"
       ]
      },
      {
       "output_type": "stream",
       "stream": "stdout",
       "text": [
        "d_dist [0.5, 0.88]\n",
        "\t\t\trunning model\n",
        "\t\t"
       ]
      },
      {
       "output_type": "stream",
       "stream": "stdout",
       "text": [
        "d_dist [0.88, 0.5]\n",
        "\t\t\trunning model\n",
        "\t\t"
       ]
      },
      {
       "output_type": "stream",
       "stream": "stdout",
       "text": [
        "d_dist [0.5, 0.5]\n",
        "\t\t\trunning model\n",
        "\t"
       ]
      },
      {
       "output_type": "stream",
       "stream": "stdout",
       "text": [
        "alpha [0.9, 1.1]\n",
        "\t\td_dist [0.88, 0.88]\n",
        "\t\t\trunning model\n",
        "\t\t"
       ]
      },
      {
       "output_type": "stream",
       "stream": "stdout",
       "text": [
        "d_dist [0.5, 0.88]\n",
        "\t\t\trunning model\n",
        "\t\t"
       ]
      },
      {
       "output_type": "stream",
       "stream": "stdout",
       "text": [
        "d_dist [0.88, 0.5]\n",
        "\t\t\trunning model\n",
        "\t\t"
       ]
      },
      {
       "output_type": "stream",
       "stream": "stdout",
       "text": [
        "d_dist [0.5, 0.5]\n",
        "\t\t\trunning model\n",
        "\t"
       ]
      },
      {
       "output_type": "stream",
       "stream": "stdout",
       "text": [
        "alpha [1.1, 0.5]\n",
        "\t\td_dist [0.88, 0.88]\n",
        "\t\t\trunning model\n",
        "\t\t"
       ]
      },
      {
       "output_type": "stream",
       "stream": "stdout",
       "text": [
        "d_dist [0.5, 0.88]\n",
        "\t\t\trunning model\n",
        "\t\t"
       ]
      },
      {
       "output_type": "stream",
       "stream": "stdout",
       "text": [
        "d_dist [0.88, 0.5]\n",
        "\t\t\trunning model\n",
        "\t\t"
       ]
      },
      {
       "output_type": "stream",
       "stream": "stdout",
       "text": [
        "d_dist [0.5, 0.5]\n",
        "\t\t\trunning model\n",
        "\t"
       ]
      },
      {
       "output_type": "stream",
       "stream": "stdout",
       "text": [
        "alpha [1.1, 0.9]\n",
        "\t\td_dist [0.88, 0.88]\n",
        "\t\t\trunning model\n",
        "\t\t"
       ]
      },
      {
       "output_type": "stream",
       "stream": "stdout",
       "text": [
        "d_dist [0.5, 0.88]\n",
        "\t\t\trunning model\n",
        "\t\t"
       ]
      },
      {
       "output_type": "stream",
       "stream": "stdout",
       "text": [
        "d_dist [0.88, 0.5]\n",
        "\t\t\trunning model\n",
        "\t\t"
       ]
      },
      {
       "output_type": "stream",
       "stream": "stdout",
       "text": [
        "d_dist [0.5, 0.5]\n",
        "\t\t\trunning model\n"
       ]
      },
      {
       "output_type": "stream",
       "stream": "stdout",
       "text": [
        " n_ms [100, 250]\n",
        "\talpha [0.5, 1.1]\n",
        "\t\td_dist [0.88, 0.88]\n",
        "\t\t\trunning model\n",
        "\t\t"
       ]
      },
      {
       "output_type": "stream",
       "stream": "stdout",
       "text": [
        "d_dist [0.5, 0.88]\n",
        "\t\t\trunning model\n",
        "\t\t"
       ]
      },
      {
       "output_type": "stream",
       "stream": "stdout",
       "text": [
        "d_dist [0.88, 0.5]\n",
        "\t\t\trunning model\n",
        "\t\t"
       ]
      },
      {
       "output_type": "stream",
       "stream": "stdout",
       "text": [
        "d_dist [0.5, 0.5]\n",
        "\t\t\trunning model\n",
        "\t"
       ]
      },
      {
       "output_type": "stream",
       "stream": "stdout",
       "text": [
        "alpha [0.9, 1.1]\n",
        "\t\td_dist [0.88, 0.88]\n",
        "\t\t\trunning model\n",
        "\t\t"
       ]
      },
      {
       "output_type": "stream",
       "stream": "stdout",
       "text": [
        "d_dist [0.5, 0.88]\n",
        "\t\t\trunning model\n",
        "\t\t"
       ]
      },
      {
       "output_type": "stream",
       "stream": "stdout",
       "text": [
        "d_dist [0.88, 0.5]\n",
        "\t\t\trunning model\n",
        "\t\t"
       ]
      },
      {
       "output_type": "stream",
       "stream": "stdout",
       "text": [
        "d_dist [0.5, 0.5]\n",
        "\t\t\trunning model\n",
        "\t"
       ]
      },
      {
       "output_type": "stream",
       "stream": "stdout",
       "text": [
        "alpha [1.1, 0.5]\n",
        "\t\td_dist [0.88, 0.88]\n",
        "\t\t\trunning model\n",
        "\t\t"
       ]
      },
      {
       "output_type": "stream",
       "stream": "stdout",
       "text": [
        "d_dist [0.5, 0.88]\n",
        "\t\t\trunning model\n",
        "\t\t"
       ]
      },
      {
       "output_type": "stream",
       "stream": "stdout",
       "text": [
        "d_dist [0.88, 0.5]\n",
        "\t\t\trunning model\n",
        "\t\t"
       ]
      },
      {
       "output_type": "stream",
       "stream": "stdout",
       "text": [
        "d_dist [0.5, 0.5]\n",
        "\t\t\trunning model\n",
        "\t"
       ]
      },
      {
       "output_type": "stream",
       "stream": "stdout",
       "text": [
        "alpha [1.1, 0.9]\n",
        "\t\td_dist [0.88, 0.88]\n",
        "\t\t\trunning model\n",
        "\t\t"
       ]
      },
      {
       "output_type": "stream",
       "stream": "stdout",
       "text": [
        "d_dist [0.5, 0.88]\n",
        "\t\t\trunning model\n",
        "\t\t"
       ]
      },
      {
       "output_type": "stream",
       "stream": "stdout",
       "text": [
        "d_dist [0.88, 0.5]\n",
        "\t\t\trunning model\n",
        "\t\t"
       ]
      },
      {
       "output_type": "stream",
       "stream": "stdout",
       "text": [
        "d_dist [0.5, 0.5]\n",
        "\t\t\trunning model\n"
       ]
      }
     ],
     "prompt_number": 107
    },
    {
     "cell_type": "code",
     "collapsed": false,
     "input": [
      "df[[\"delta_z\",\"n_hc\",\"n_ms_site_0\",\"n_ms_site_1\",\"d_dist_site_0\",\"d_dist_site_1\",\"alpha_site_0\",\"alpha_site_1\"]]"
     ],
     "language": "python",
     "metadata": {},
     "outputs": [
      {
       "html": [
        "<pre>\n",
        "&lt;class 'pandas.core.frame.DataFrame'&gt;\n",
        "Int64Index: 256 entries, 0 to 255\n",
        "Data columns (total 8 columns):\n",
        "delta_z          256  non-null values\n",
        "n_hc             256  non-null values\n",
        "n_ms_site_0      256  non-null values\n",
        "n_ms_site_1      256  non-null values\n",
        "d_dist_site_0    256  non-null values\n",
        "d_dist_site_1    256  non-null values\n",
        "alpha_site_0     256  non-null values\n",
        "alpha_site_1     256  non-null values\n",
        "dtypes: float64(8)\n",
        "</pre>"
       ],
       "metadata": {},
       "output_type": "pyout",
       "prompt_number": 108,
       "text": [
        "<class 'pandas.core.frame.DataFrame'>\n",
        "Int64Index: 256 entries, 0 to 255\n",
        "Data columns (total 8 columns):\n",
        "delta_z          256  non-null values\n",
        "n_hc             256  non-null values\n",
        "n_ms_site_0      256  non-null values\n",
        "n_ms_site_1      256  non-null values\n",
        "d_dist_site_0    256  non-null values\n",
        "d_dist_site_1    256  non-null values\n",
        "alpha_site_0     256  non-null values\n",
        "alpha_site_1     256  non-null values\n",
        "dtypes: float64(8)"
       ]
      }
     ],
     "prompt_number": 108
    },
    {
     "cell_type": "code",
     "collapsed": false,
     "input": [
      "corr = np.corrcoef(df[df.columns[1:]].T)\n",
      "corr[np.isnan(corr)] = 1\n",
      "idx = np.abs(corr)>0.9\n",
      "k = len(df.columns[1:])\n",
      "good_idx=np.sum(idx,axis=0)<k"
     ],
     "language": "python",
     "metadata": {},
     "outputs": [],
     "prompt_number": 109
    },
    {
     "cell_type": "code",
     "collapsed": false,
     "input": [
      "fig,ax = subplots(1,1)\n",
      "ppl.pcolormesh(fig,ax,corr[good_idx,:][:,good_idx])\n",
      "ax.set_xticks(arange(sum(good_idx))+0.5)\n",
      "ax.set_yticks(arange(sum(good_idx))+0.5)\n",
      "ax.set_xticklabels(df.columns[1:][good_idx],rotation=90);\n",
      "ax.set_yticklabels(df.columns[1:][good_idx],rotation=0);"
     ],
     "language": "python",
     "metadata": {},
     "outputs": [
      {
       "metadata": {},
       "output_type": "display_data",
       "png": "[encoded data removed]",
       "text": [
        "<matplotlib.figure.Figure at 0xf894290>"
       ]
      }
     ],
     "prompt_number": 110
    },
    {
     "cell_type": "code",
     "collapsed": false,
     "input": [
      "data = []\n",
      "for c in df.columns[1:][good_idx]:\n",
      "    data.append(df[c].tolist())"
     ],
     "language": "python",
     "metadata": {},
     "outputs": [],
     "prompt_number": 111
    },
    {
     "cell_type": "code",
     "collapsed": false,
     "input": [
      "model = run_model(data,df.delta_z,yname=\"deltaz\",xnames=[\"const\"]+df.columns[1:][good_idx].tolist())"
     ],
     "language": "python",
     "metadata": {},
     "outputs": [
      {
       "output_type": "stream",
       "stream": "stdout",
       "text": [
        "                            OLS Regression Results                            \n",
        "==============================================================================\n",
        "Dep. Variable:                 deltaz   R-squared:                       0.339\n",
        "Model:                            OLS   Adj. R-squared:                  0.320\n",
        "Method:                 Least Squares   F-statistic:                     18.15\n",
        "Date:                Mon, 24 Mar 2014   Prob (F-statistic):           1.97e-19\n",
        "Time:                        20:46:37   Log-Likelihood:                -420.50\n",
        "No. Observations:                 256   AIC:                             857.0\n",
        "Df Residuals:                     248   BIC:                             885.4\n",
        "Df Model:                           7                                         \n",
        "=================================================================================\n",
        "                    coef    std err          t      P>|t|      [95.0% Conf. Int.]\n",
        "---------------------------------------------------------------------------------\n",
        "const             0.1522      0.874      0.174      0.862        -1.569     1.873\n",
        "n_ms_site_0      -0.0007      0.001     -0.653      0.515        -0.003     0.001\n",
        "n_ms_site_1      -0.0015      0.001     -1.399      0.163        -0.004     0.001\n",
        "d_dist_site_0     0.6021      0.418      1.441      0.151        -0.221     1.425\n",
        "d_dist_site_1     0.4973      0.418      1.190      0.235        -0.326     1.321\n",
        "alpha_site_0     -1.3390      0.435     -3.078      0.002        -2.196    -0.482\n",
        "alpha_site_1     -1.2566      0.435     -2.889      0.004        -2.113    -0.400\n",
        "n_hc              0.0244      0.002     10.509      0.000         0.020     0.029\n",
        "==============================================================================\n",
        "Omnibus:                        2.121   Durbin-Watson:                   1.290\n",
        "Prob(Omnibus):                  0.346   Jarque-Bera (JB):                1.938\n",
        "Skew:                           0.083   Prob(JB):                        0.379\n",
        "Kurtosis:                       3.393   Cond. No.                     3.35e+03\n",
        "==============================================================================\n",
        "\n",
        "Warnings:\n",
        "[1] The condition number is large, 3.35e+03. This might indicate that there are\n",
        "strong multicollinearity or other numerical problems.\n"
       ]
      }
     ],
     "prompt_number": 112
    },
    {
     "cell_type": "code",
     "collapsed": false,
     "input": [
      "foo = df.columns[1:][good_idx].tolist()"
     ],
     "language": "python",
     "metadata": {},
     "outputs": [],
     "prompt_number": 117
    },
    {
     "cell_type": "code",
     "collapsed": false,
     "input": [
      "foo.remove('alpha_site_0')"
     ],
     "language": "python",
     "metadata": {},
     "outputs": [],
     "prompt_number": 119
    },
    {
     "cell_type": "code",
     "collapsed": false,
     "input": [
      "data = []\n",
      "for c in foo:\n",
      "    data.append(df[c].tolist())"
     ],
     "language": "python",
     "metadata": {},
     "outputs": [],
     "prompt_number": 122
    },
    {
     "cell_type": "code",
     "collapsed": false,
     "input": [
      "model = run_model(data,df.delta_z,yname=\"deltaz\",xnames=[\"const\"]+foo)"
     ],
     "language": "python",
     "metadata": {},
     "outputs": [
      {
       "output_type": "stream",
       "stream": "stdout",
       "text": [
        "                            OLS Regression Results                            \n",
        "==============================================================================\n",
        "Dep. Variable:                 deltaz   R-squared:                       0.313\n",
        "Model:                            OLS   Adj. R-squared:                  0.297\n",
        "Method:                 Least Squares   F-statistic:                     18.95\n",
        "Date:                Tue, 25 Mar 2014   Prob (F-statistic):           3.72e-18\n",
        "Time:                        09:06:13   Log-Likelihood:                -425.30\n",
        "No. Observations:                 256   AIC:                             864.6\n",
        "Df Residuals:                     249   BIC:                             889.4\n",
        "Df Model:                           6                                         \n",
        "=================================================================================\n",
        "                    coef    std err          t      P>|t|      [95.0% Conf. Int.]\n",
        "---------------------------------------------------------------------------------\n",
        "const            -1.8563      0.591     -3.140      0.002        -3.021    -0.692\n",
        "n_ms_site_0      -0.0007      0.001     -0.642      0.522        -0.003     0.001\n",
        "n_ms_site_1      -0.0015      0.001     -1.376      0.170        -0.004     0.001\n",
        "d_dist_site_0     0.6021      0.425      1.417      0.158        -0.235     1.439\n",
        "d_dist_site_1     0.4973      0.425      1.170      0.243        -0.340     1.334\n",
        "alpha_site_1     -0.3639      0.330     -1.104      0.271        -1.013     0.285\n",
        "n_hc              0.0244      0.002     10.334      0.000         0.020     0.029\n",
        "==============================================================================\n",
        "Omnibus:                        6.838   Durbin-Watson:                   1.259\n",
        "Prob(Omnibus):                  0.033   Jarque-Bera (JB):                7.096\n",
        "Skew:                           0.299   Prob(JB):                       0.0288\n",
        "Kurtosis:                       3.555   Cond. No.                     2.25e+03\n",
        "==============================================================================\n",
        "\n",
        "Warnings:\n",
        "[1] The condition number is large, 2.25e+03. This might indicate that there are\n",
        "strong multicollinearity or other numerical problems.\n"
       ]
      }
     ],
     "prompt_number": 123
    },
    {
     "cell_type": "code",
     "collapsed": false,
     "input": [
      "sns.kdeplot(df[\"delta_z\"][df[\"n_hc\"]==10],shade=False,label=\"10\")\n",
      "sns.kdeplot(df[\"delta_z\"][df[\"n_hc\"]==25],shade=False,label=\"25\")\n",
      "sns.kdeplot(df[\"delta_z\"][df[\"n_hc\"]==50],shade=False,label=\"50\")\n",
      "sns.kdeplot(df[\"delta_z\"][df[\"n_hc\"]==100],shade=False,label=\"100\");"
     ],
     "language": "python",
     "metadata": {},
     "outputs": [
      {
       "metadata": {},
       "output_type": "display_data",
       "png": "[encoded data removed]",
       "text": [
        "<matplotlib.figure.Figure at 0x2aaaac2375d0>"
       ]
      }
     ],
     "prompt_number": 156
    },
    {
     "cell_type": "code",
     "collapsed": false,
     "input": [],
     "language": "python",
     "metadata": {},
     "outputs": []
    }
   ],
   "metadata": {}
  }
 ]
}