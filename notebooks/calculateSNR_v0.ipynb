{
 "metadata": {
  "name": "",
  "signature": "sha256:ba165d0f7e191f20b99952d05731716dd09a6d2853f9d45d318171271eb07202"
 },
 "nbformat": 3,
 "nbformat_minor": 0,
 "worksheets": [
  {
   "cells": [
    {
     "cell_type": "code",
     "collapsed": false,
     "input": [
      "%pylab inline\n",
      "from scipy.ndimage import label, generate_binary_structure\n",
      "import nibabel as nib"
     ],
     "language": "python",
     "metadata": {},
     "outputs": [
      {
       "output_type": "stream",
       "stream": "stdout",
       "text": [
        "Populating the interactive namespace from numpy and matplotlib\n"
       ]
      }
     ],
     "prompt_number": 1
    },
    {
     "cell_type": "code",
     "collapsed": false,
     "input": [
      "import prettyplotlib as ppl"
     ],
     "language": "python",
     "metadata": {},
     "outputs": [],
     "prompt_number": 2
    },
    {
     "cell_type": "heading",
     "level": 3,
     "metadata": {},
     "source": [
      "Load Nifti"
     ]
    },
    {
     "cell_type": "code",
     "collapsed": false,
     "input": [
      "filename = \"/data/henry6/keshavan/phantom/nii/phantom_15Apr14/012-MPRAGE.nii.gz\"\n",
      "img = nib.load(filename)\n",
      "img.set_qform(img.get_affine(),1)\n",
      "data, hdr, aff = img.get_data(), img.get_header(), img.get_affine()"
     ],
     "language": "python",
     "metadata": {},
     "outputs": [],
     "prompt_number": 23
    },
    {
     "cell_type": "code",
     "collapsed": false,
     "input": [
      "pixdim = hdr.get_zooms()\n",
      "dim = np.asarray(img.shape)"
     ],
     "language": "python",
     "metadata": {},
     "outputs": [],
     "prompt_number": 24
    },
    {
     "cell_type": "code",
     "collapsed": false,
     "input": [
      "minFOV=175\n",
      "nominalFOV=200"
     ],
     "language": "python",
     "metadata": {},
     "outputs": [],
     "prompt_number": 25
    },
    {
     "cell_type": "code",
     "collapsed": false,
     "input": [
      "fov = pixdim*dim\n",
      "if (fov<minFOV).any():\n",
      "    print \"FOV too small!\"\n",
      "if (fov<nominalFOV).any():\n",
      "    print \"Warning: FOV smaller than nominal: %d > %s\"%(nominalFOV,str(fov))"
     ],
     "language": "python",
     "metadata": {},
     "outputs": [
      {
       "output_type": "stream",
       "stream": "stdout",
       "text": [
        "Warning: FOV smaller than nominal: 200 > [ 176.  240.  256.]\n"
       ]
      }
     ],
     "prompt_number": 20
    },
    {
     "cell_type": "code",
     "collapsed": false,
     "input": [
      "_,b,c,d = hdr.get_qform_quaternion()"
     ],
     "language": "python",
     "metadata": {},
     "outputs": [],
     "prompt_number": 22
    },
    {
     "cell_type": "code",
     "collapsed": false,
     "input": [
      "a = sqrt(1.0-(b*b+c*c+d*d))\n",
      "a=real(a)"
     ],
     "language": "python",
     "metadata": {},
     "outputs": [],
     "prompt_number": 26
    },
    {
     "cell_type": "code",
     "collapsed": false,
     "input": [
      "qfac, i, j, k, _,_,_,_ = hdr['pixdim']\n",
      "k = qfac*k"
     ],
     "language": "python",
     "metadata": {},
     "outputs": [],
     "prompt_number": 39
    },
    {
     "cell_type": "code",
     "collapsed": false,
     "input": [
      "R = np.array([[a*a+b*b-c*c-d*d,     2*b*c-2*a*d,        2*b*d+2*a*c],\n",
      "        [2*b*c+2*a*d,         a*a+c*c-b*b-d*d,    2*c*d-2*a*b],\n",
      "        [2*b*d-2*a*c,         2*c*d+2*a*b,        a*a+d*d-c*c-b*b]])"
     ],
     "language": "python",
     "metadata": {},
     "outputs": [],
     "prompt_number": 46
    },
    {
     "cell_type": "code",
     "collapsed": false,
     "input": [
      "R = R * diag([i, j, k])"
     ],
     "language": "python",
     "metadata": {},
     "outputs": [],
     "prompt_number": 47
    },
    {
     "cell_type": "code",
     "collapsed": false,
     "input": [
      "T = np.array([[hdr['qoffset_x']],\n",
      "        [hdr['qoffset_y']],\n",
      "        [hdr['qoffset_z']]])"
     ],
     "language": "python",
     "metadata": {},
     "outputs": [],
     "prompt_number": 53
    },
    {
     "cell_type": "code",
     "collapsed": false,
     "input": [
      "RAS = np.hstack((R,T))\n",
      "RAS = np.vstack((RAS,[0, 0, 0, 1]))"
     ],
     "language": "python",
     "metadata": {},
     "outputs": [],
     "prompt_number": 58
    },
    {
     "cell_type": "code",
     "collapsed": false,
     "input": [
      "RAS"
     ],
     "language": "python",
     "metadata": {},
     "outputs": [
      {
       "metadata": {},
       "output_type": "pyout",
       "prompt_number": 59,
       "text": [
        "array([[-1.0,  0.0,  0.0,  84.618347],\n",
        "       [ 0.0,  1.0,  0.0, -112.85278],\n",
        "       [ 0.0,  0.0,  1.0, -128.94669],\n",
        "       [ 0.0,  0.0,  0.0,  1.0]], dtype=float128)"
       ]
      }
     ],
     "prompt_number": 59
    },
    {
     "cell_type": "code",
     "collapsed": false,
     "input": [
      "def load_nifti(filename):\n",
      "    img = nib.load(filename)\n",
      "    img.set_qform(img.get_affine(),1)\n",
      "    data, hdr, aff = img.get_data(), img.get_header(), img.get_affine()\n",
      "    pixdim = hdr.get_zooms()\n",
      "    dim = np.asarray(img.shape)\n",
      "    minFOV=175\n",
      "    nominalFOV=200\n",
      "    fov = pixdim*dim\n",
      "    if (fov<minFOV).any():\n",
      "        print \"FOV too small!\"\n",
      "    if (fov<nominalFOV).any():\n",
      "        print \"Warning: FOV smaller than nominal: %d > %s\"%(nominalFOV,str(fov))\n",
      "    _,b,c,d = hdr.get_qform_quaternion()\n",
      "    a = sqrt(1.0-(b*b+c*c+d*d))\n",
      "    a=real(a)\n",
      "    qfac, i, j, k, _,_,_,_ = hdr['pixdim']\n",
      "    k = qfac*k\n",
      "    R = np.array([[a*a+b*b-c*c-d*d,     2*b*c-2*a*d,        2*b*d+2*a*c],\n",
      "        [2*b*c+2*a*d,         a*a+c*c-b*b-d*d,    2*c*d-2*a*b],\n",
      "        [2*b*d-2*a*c,         2*c*d+2*a*b,        a*a+d*d-c*c-b*b]])\n",
      "    R = R * diag([i, j, k])\n",
      "    T = np.array([[hdr['qoffset_x']],\n",
      "        [hdr['qoffset_y']],\n",
      "        [hdr['qoffset_z']]])\n",
      "    RAS = np.hstack((R,T))\n",
      "    RAS = np.vstack((RAS,[0, 0, 0, 1]))\n",
      "    \n",
      "    return img,data,aff,hdr,RAS"
     ],
     "language": "python",
     "metadata": {},
     "outputs": [],
     "prompt_number": 3
    },
    {
     "cell_type": "heading",
     "level": 3,
     "metadata": {},
     "source": [
      "Find SNR Sphere"
     ]
    },
    {
     "cell_type": "code",
     "collapsed": false,
     "input": [
      "from skimage.filter import threshold_otsu, threshold_adaptive, thresholding"
     ],
     "language": "python",
     "metadata": {},
     "outputs": [],
     "prompt_number": 18
    },
    {
     "cell_type": "code",
     "collapsed": false,
     "input": [
      "thr = threshold_otsu(data)"
     ],
     "language": "python",
     "metadata": {},
     "outputs": [],
     "prompt_number": 62
    },
    {
     "cell_type": "code",
     "collapsed": false,
     "input": [
      "import scipy.io as sio"
     ],
     "language": "python",
     "metadata": {},
     "outputs": [],
     "prompt_number": 19
    },
    {
     "cell_type": "code",
     "collapsed": false,
     "input": [
      "locations_1 = sio.loadmat(\"l1.mat\")['l1'][0]\n",
      "locations_2 = sio.loadmat(\"l2.mat\")['l2'][0]"
     ],
     "language": "python",
     "metadata": {},
     "outputs": [],
     "prompt_number": 20
    },
    {
     "cell_type": "code",
     "collapsed": false,
     "input": [
      "theory = locations_1\n",
      "#requiredVolume=0.8*sum([theory.Spheres(:).Volume])/phan.voxelVolume;"
     ],
     "language": "python",
     "metadata": {},
     "outputs": [],
     "prompt_number": 21
    },
    {
     "cell_type": "code",
     "collapsed": false,
     "input": [
      "targetVolume= theory['Spheres'][0][0][theory['SNRSphereIndex'][0][0][0]-1]['Volume'][0][0]/product(pixdim);\n",
      "requiredVolume=0.8*np.sum(theory['Spheres'][0][0][:][\"Volume\"])[0][0]/product(pixdim);"
     ],
     "language": "python",
     "metadata": {},
     "outputs": [],
     "prompt_number": 26
    },
    {
     "cell_type": "code",
     "collapsed": false,
     "input": [
      "nFoundvoxels = np.sum(data>thr)"
     ],
     "language": "python",
     "metadata": {},
     "outputs": [],
     "prompt_number": 126
    },
    {
     "cell_type": "code",
     "collapsed": false,
     "input": [
      "if nFoundvoxels < requiredVolume:\n",
      "    print \"WARNING\"\n",
      "    print \"required volume: \", requiredVolume\n",
      "    print \"found\", nFoundvoxels, \"voxels only\""
     ],
     "language": "python",
     "metadata": {},
     "outputs": [
      {
       "output_type": "stream",
       "stream": "stdout",
       "text": [
        "WARNING\n",
        "required volume:  204727.121259\n",
        "found 140528 voxels only\n"
       ]
      }
     ],
     "prompt_number": 128
    },
    {
     "cell_type": "heading",
     "level": 4,
     "metadata": {},
     "source": [
      "Histogram Binning"
     ]
    },
    {
     "cell_type": "code",
     "collapsed": false,
     "input": [
      "nBins=1000#hdr['glmax']-hdr['glmin'] ??\n",
      "cont,binEdges=histogram(data.ravel(),nBins);\n",
      "csum = cumsum(cont[::-1])\n",
      "binEdges = binEdges[::-1]\n",
      "index=find(csum>requiredVolume)"
     ],
     "language": "python",
     "metadata": {},
     "outputs": [],
     "prompt_number": 162
    },
    {
     "cell_type": "code",
     "collapsed": false,
     "input": [
      "thr = binEdges[index[0]]"
     ],
     "language": "python",
     "metadata": {},
     "outputs": [],
     "prompt_number": 165
    },
    {
     "cell_type": "code",
     "collapsed": false,
     "input": [
      "nFoundvoxels = np.sum(data>thr)"
     ],
     "language": "python",
     "metadata": {},
     "outputs": [],
     "prompt_number": 166
    },
    {
     "cell_type": "code",
     "collapsed": false,
     "input": [
      "if nFoundvoxels < requiredVolume:\n",
      "    print \"WARNING\"\n",
      "    print \"required volume: \", requiredVolume\n",
      "    print \"found\", nFoundvoxels, \"voxels only\""
     ],
     "language": "python",
     "metadata": {},
     "outputs": [
      {
       "output_type": "stream",
       "stream": "stdout",
       "text": [
        "WARNING\n",
        "required volume:  204727.121259\n",
        "found 201232 voxels only\n"
       ]
      }
     ],
     "prompt_number": 167
    },
    {
     "cell_type": "code",
     "collapsed": false,
     "input": [
      "thr = binEdges[index[0]+1]\n",
      "nFoundvoxels = np.sum(data>thr)\n",
      "if nFoundvoxels < requiredVolume:\n",
      "    print \"WARNING\"\n",
      "    print \"required volume: \", requiredVolume\n",
      "    print \"found\", nFoundvoxels, \"voxels only\"\n",
      "else:\n",
      "    print \"Found enough voxels with threshold\", thr"
     ],
     "language": "python",
     "metadata": {},
     "outputs": [
      {
       "output_type": "stream",
       "stream": "stdout",
       "text": [
        "Found enough voxels with threshold 512.766\n"
       ]
      }
     ],
     "prompt_number": 173
    },
    {
     "cell_type": "code",
     "collapsed": false,
     "input": [
      "def check_thr(data,thr):\n",
      "    nFoundvoxels = np.sum(data>thr)\n",
      "    if nFoundvoxels < requiredVolume:\n",
      "        print \"WARNING\"\n",
      "        print \"required volume: \", requiredVolume\n",
      "        print \"found\", nFoundvoxels, \"voxels only\"\n",
      "        return False\n",
      "    else:\n",
      "        print \"Found enough voxels with threshold\", thr\n",
      "        return True"
     ],
     "language": "python",
     "metadata": {},
     "outputs": [],
     "prompt_number": 5
    },
    {
     "cell_type": "code",
     "collapsed": false,
     "input": [
      "def hist_bin(data,nBins=1000):\n",
      "    nBins=1000#hdr['glmax']-hdr['glmin'] ??\n",
      "    cont,binEdges=histogram(data.ravel(),nBins);\n",
      "    csum = cumsum(cont[::-1])\n",
      "    binEdges = binEdges[::-1]\n",
      "    index=find(csum>requiredVolume)\n",
      "    for idx in index:\n",
      "        thr = binEdges[idx]\n",
      "        if check_thr(data,thr):\n",
      "            return data>thr,thr"
     ],
     "language": "python",
     "metadata": {},
     "outputs": [],
     "prompt_number": 4
    },
    {
     "cell_type": "code",
     "collapsed": false,
     "input": [
      "data_bin, thr = hist_bin(data)"
     ],
     "language": "python",
     "metadata": {},
     "outputs": [
      {
       "output_type": "stream",
       "stream": "stdout",
       "text": [
        "WARNING\n",
        "required volume:  204727.121259\n",
        "found 201232 voxels only\n",
        "Found enough voxels with threshold"
       ]
      },
      {
       "output_type": "stream",
       "stream": "stdout",
       "text": [
        " 512.766\n"
       ]
      }
     ],
     "prompt_number": 177
    },
    {
     "cell_type": "code",
     "collapsed": false,
     "input": [
      "img,data,aff,hdr,RAS = load_nifti(filename)"
     ],
     "language": "python",
     "metadata": {},
     "outputs": [
      {
       "output_type": "stream",
       "stream": "stdout",
       "text": [
        "Warning: FOV smaller than nominal: 200 > [ 176.  240.  256.]\n"
       ]
      }
     ],
     "prompt_number": 367
    },
    {
     "cell_type": "code",
     "collapsed": false,
     "input": [
      "def bin_data(data):\n",
      "    thr = threshold_otsu(data)\n",
      "    if check_thr(data,thr):\n",
      "        return data>thr, thr\n",
      "    else:\n",
      "        print \"Warning: Using Histogram Binning\"\n",
      "        return hist_bin(data)\n",
      "        "
     ],
     "language": "python",
     "metadata": {},
     "outputs": [],
     "prompt_number": 6
    },
    {
     "cell_type": "code",
     "collapsed": false,
     "input": [
      "data_bin, thr = bin_data(data)"
     ],
     "language": "python",
     "metadata": {},
     "outputs": [
      {
       "output_type": "stream",
       "stream": "stdout",
       "text": [
        "WARNING\n",
        "required volume:  204727.121259\n",
        "found 140528 voxels only\n",
        "Warning: Using Histogram Binning\n",
        "WARNING"
       ]
      },
      {
       "output_type": "stream",
       "stream": "stdout",
       "text": [
        "\n",
        "required volume:  204727.121259\n",
        "found 201232 voxels only\n",
        "Found enough voxels with threshold"
       ]
      },
      {
       "output_type": "stream",
       "stream": "stdout",
       "text": [
        " 512.766\n"
       ]
      }
     ],
     "prompt_number": 369
    },
    {
     "cell_type": "heading",
     "level": 4,
     "metadata": {},
     "source": [
      "Labeling"
     ]
    },
    {
     "cell_type": "code",
     "collapsed": false,
     "input": [
      "sss= generate_binary_structure(3,3) # Even diagonal voxels are connected.\n",
      "labelImg, nlabels = label(data_bin,structure=sss)\n",
      "#requiredVolume = 0.5*targetVolume"
     ],
     "language": "python",
     "metadata": {},
     "outputs": [],
     "prompt_number": 370
    },
    {
     "cell_type": "code",
     "collapsed": false,
     "input": [
      "def clean_labels(labelImg,minArea=10):\n",
      "\n",
      "    area = np.bincount(labelImg.ravel())\n",
      "    area[0]=0\n",
      "    validAreas = area[area>10]\n",
      "    validLabels = np.nonzero(area>10)[0]\n",
      "    badLabels = np.nonzero(area<10)[0]\n",
      "    for idx,labelnum in enumerate(sorted(np.unique(badLabels))):\n",
      "        bw = labelImg == labelnum\n",
      "        labelImg[bw] = 0\n",
      "    return labelImg, validAreas, validLabels"
     ],
     "language": "python",
     "metadata": {},
     "outputs": [],
     "prompt_number": 7
    },
    {
     "cell_type": "code",
     "collapsed": false,
     "input": [
      "labelImg,vArea,vLabels = clean_labels(labelImg)"
     ],
     "language": "python",
     "metadata": {},
     "outputs": [],
     "prompt_number": 384
    },
    {
     "cell_type": "code",
     "collapsed": false,
     "input": [
      "nib.Nifti1Image(labelImg,aff).to_filename(\"testlabels2.nii.gz\")"
     ],
     "language": "python",
     "metadata": {},
     "outputs": [],
     "prompt_number": 385
    },
    {
     "cell_type": "code",
     "collapsed": false,
     "input": [
      "nib.Nifti1Image(data_bin.astype(np.float32),aff).to_filename(\"bindata.nii.gz\")"
     ],
     "language": "python",
     "metadata": {},
     "outputs": [],
     "prompt_number": 235
    },
    {
     "cell_type": "code",
     "collapsed": false,
     "input": [
      "len(validLabels)"
     ],
     "language": "python",
     "metadata": {},
     "outputs": [
      {
       "metadata": {},
       "output_type": "pyout",
       "prompt_number": 268,
       "text": [
        "173"
       ]
      }
     ],
     "prompt_number": 268
    },
    {
     "cell_type": "code",
     "collapsed": false,
     "input": [
      "hist(sorted(validAreas)[:-6],bins=100);"
     ],
     "language": "python",
     "metadata": {},
     "outputs": [
      {
       "metadata": {},
       "output_type": "display_data",
       "png": "[encoded data removed]",
       "text": [
        "<matplotlib.figure.Figure at 0x128ea750>"
       ]
      }
     ],
     "prompt_number": 274
    },
    {
     "cell_type": "markdown",
     "metadata": {},
     "source": [
      "find the biggest sphere:"
     ]
    },
    {
     "cell_type": "code",
     "collapsed": false,
     "input": [
      "bigVol =  np.max(validAreas)\n",
      "bigLabel = validLabels[np.argmax(validAreas)]"
     ],
     "language": "python",
     "metadata": {},
     "outputs": [],
     "prompt_number": 278
    },
    {
     "cell_type": "code",
     "collapsed": false,
     "input": [
      "if bigVol < 0.5*targetVolume:\n",
      "    print \"cannot find single cluster of voxels large enough  when hunting for SNR sphere\"\n",
      "    print bigVol/targetVolume"
     ],
     "language": "python",
     "metadata": {},
     "outputs": [
      {
       "output_type": "stream",
       "stream": "stdout",
       "text": [
        "cannot find single cluster of voxels large enough  when hunting for SNR sphere\n",
        "0.437375467499\n"
       ]
      }
     ],
     "prompt_number": 284
    },
    {
     "cell_type": "markdown",
     "metadata": {},
     "source": [
      "Clean up the big sphere"
     ]
    },
    {
     "cell_type": "code",
     "collapsed": false,
     "input": [
      "def get_coords(bw):\n",
      "    coords = np.asarray(np.nonzero(bw))\n",
      "    return np.mean(coords,axis=1)"
     ],
     "language": "python",
     "metadata": {},
     "outputs": [],
     "prompt_number": 8
    },
    {
     "cell_type": "code",
     "collapsed": false,
     "input": [
      "seed = get_coords(labelImg==bigLabel)"
     ],
     "language": "python",
     "metadata": {},
     "outputs": [],
     "prompt_number": 291
    },
    {
     "cell_type": "code",
     "collapsed": false,
     "input": [
      "def hist_bin_thr(data,requiredVolume,nBins=1000):\n",
      "    nBins=1000#hdr['glmax']-hdr['glmin'] ??\n",
      "    cont,binEdges=histogram(data.ravel(),nBins);\n",
      "    csum = cumsum(cont[::-1])\n",
      "    binEdges = binEdges[::-1]\n",
      "    index=find(csum>requiredVolume)\n",
      "    return binEdges[index][:len(index)/4]"
     ],
     "language": "python",
     "metadata": {},
     "outputs": [],
     "prompt_number": 9
    },
    {
     "cell_type": "code",
     "collapsed": false,
     "input": [
      "def get_area(labelImg):\n",
      "    area = np.bincount(labelImg.ravel())\n",
      "    area[0]=0\n",
      "    idx = area.argmax()\n",
      "    return area[idx], idx"
     ],
     "language": "python",
     "metadata": {},
     "outputs": [],
     "prompt_number": 10
    },
    {
     "cell_type": "code",
     "collapsed": false,
     "input": [
      "thrs = hist_bin_thr(data,requiredVolume)\n",
      "sss= generate_binary_structure(3,3) # Even diagonal voxels are connected.\n",
      "#requiredVolume = 0.5*targetVolume\n",
      "areas = []\n",
      "for thr in thrs:\n",
      "    data_bin = data>thr\n",
      "    labelImg, nlabels = label(data_bin,structure=sss)\n",
      "    A,_ = get_area(labelImg)\n",
      "    areas.append(A)"
     ],
     "language": "python",
     "metadata": {},
     "outputs": [],
     "prompt_number": 356
    },
    {
     "cell_type": "code",
     "collapsed": false,
     "input": [
      "plot(thrs,areas,marker='o')\n",
      "hlines(0.5*targetVolume,thrs[-1],thrs[0])\n",
      "hlines(targetVolume,thrs[-1],thrs[0]);"
     ],
     "language": "python",
     "metadata": {},
     "outputs": [
      {
       "metadata": {},
       "output_type": "display_data",
       "png": "[encoded data removed]",
       "text": [
        "<matplotlib.figure.Figure at 0x2aaaae4a31d0>"
       ]
      }
     ],
     "prompt_number": 366
    },
    {
     "cell_type": "code",
     "collapsed": false,
     "input": [
      "from scipy.ndimage.morphology import binary_fill_holes"
     ],
     "language": "python",
     "metadata": {},
     "outputs": [],
     "prompt_number": 11
    },
    {
     "cell_type": "code",
     "collapsed": false,
     "input": [
      "bestLabel, _ = label(data>thrs[argmax(diff(areas))-1])\n",
      "_,idx = get_area(bestLabel)\n",
      "bestLabel = binary_fill_holes(bestLabel==idx)\n",
      "nib.Nifti1Image((bestLabel).astype(float),aff,header=hdr).to_filename(\"bestLabels.nii.gz\")"
     ],
     "language": "python",
     "metadata": {},
     "outputs": [],
     "prompt_number": 420
    },
    {
     "cell_type": "code",
     "collapsed": false,
     "input": [
      "def ind2sub( dim, shap, lst ):\n",
      "    '''\n",
      "    I1, I2, I3, ..., Idim = ind2sub(dim, shap, lst)\n",
      "    Input:\n",
      "        dim - number of dimensions\n",
      "        shap - shape of the array\n",
      "        lst - list of indicies\n",
      "    Output:\n",
      "        list of subscripts\n",
      "    r = array([[0,1,0,0],[0,0,1,1],[1,1,1,0],[1,0,0,1]])\n",
      "    l = find(r==1)\n",
      "    [cols,rows] = ind2sub(2, r.shape, l)\n",
      "    # The element in coulmn cols[i], and row rows[i] is 1.\n",
      "    '''\n",
      "    if len(shap) <= dim:\n",
      "        shap = shap + tuple(zeros((dim - len(shap),)))\n",
      "    else:\n",
      "        shap = shap[0:dim-1] + (prod(shap[(dim-1):]),)\n",
      "\n",
      "    n = len(shap)\n",
      "    k = array([1] + cumprod(shap[0:(n-1)]).tolist())\n",
      "\n",
      "    argout = [zeros((len(lst),))]*n\n",
      "\n",
      "    for i in xrange(n-1,-1,-1):\n",
      "        vi = (lst)%k[i]\n",
      "        vj = (lst-vi)/k[i]\n",
      "        argout[i] = vj\n",
      "        lst = vi\n",
      "    return argout"
     ],
     "language": "python",
     "metadata": {},
     "outputs": [],
     "prompt_number": 12
    },
    {
     "cell_type": "code",
     "collapsed": false,
     "input": [
      "from scipy import ndimage"
     ],
     "language": "python",
     "metadata": {},
     "outputs": [],
     "prompt_number": 13
    },
    {
     "cell_type": "code",
     "collapsed": false,
     "input": [
      "Mask = ndimage.binary_erosion(bestLabel,iterations=9)\n",
      "Image = data"
     ],
     "language": "python",
     "metadata": {},
     "outputs": [],
     "prompt_number": 394
    },
    {
     "cell_type": "code",
     "collapsed": false,
     "input": [
      "MaskIdx = find(Mask)\n",
      "x,y,z = ind2sub(3,Image.shape,MaskIdx)"
     ],
     "language": "python",
     "metadata": {},
     "outputs": [],
     "prompt_number": 400
    },
    {
     "cell_type": "code",
     "collapsed": false,
     "input": [
      "o = ones ((len(MaskIdx)));\n",
      "#X = [o x y z x.*x x.*y x.*z y.*y y.*z z.*z];\n",
      "X = np.column_stack((o,x,y,z,x*x,x*y,x*z,y*y,y*z,z*z))\n",
      "Y = Image[Mask]"
     ],
     "language": "python",
     "metadata": {},
     "outputs": [],
     "prompt_number": 423
    },
    {
     "cell_type": "code",
     "collapsed": false,
     "input": [
      "fitCoeffs,_,_,_ = np.linalg.lstsq(X,Y)\n",
      "smoothfit = np.dot(X,fitCoeffs[:,None])"
     ],
     "language": "python",
     "metadata": {},
     "outputs": [],
     "prompt_number": 436
    },
    {
     "cell_type": "code",
     "collapsed": false,
     "input": [
      "NoiseData = Y - smoothfit[:,0]"
     ],
     "language": "python",
     "metadata": {},
     "outputs": [],
     "prompt_number": 442
    },
    {
     "cell_type": "code",
     "collapsed": false,
     "input": [
      "hist(NoiseData,bins=100);"
     ],
     "language": "python",
     "metadata": {},
     "outputs": [
      {
       "metadata": {},
       "output_type": "display_data",
       "png": "[encoded data removed]",
       "text": [
        "<matplotlib.figure.Figure at 0x2aaaae2baa90>"
       ]
      }
     ],
     "prompt_number": 449
    },
    {
     "cell_type": "code",
     "collapsed": false,
     "input": [
      "Noise = std ( NoiseData )\n",
      "Signal = float(np.sum(Image[Mask]))/len(MaskIdx)\n",
      "SNR = Signal / Noise;"
     ],
     "language": "python",
     "metadata": {},
     "outputs": [],
     "prompt_number": 450
    },
    {
     "cell_type": "code",
     "collapsed": false,
     "input": [
      "Noise"
     ],
     "language": "python",
     "metadata": {},
     "outputs": [
      {
       "metadata": {},
       "output_type": "pyout",
       "prompt_number": 451,
       "text": [
        "16.912279510162925"
       ]
      }
     ],
     "prompt_number": 451
    },
    {
     "cell_type": "code",
     "collapsed": false,
     "input": [
      "Signal"
     ],
     "language": "python",
     "metadata": {},
     "outputs": [
      {
       "metadata": {},
       "output_type": "pyout",
       "prompt_number": 452,
       "text": [
        "530.1338603000484"
       ]
      }
     ],
     "prompt_number": 452
    },
    {
     "cell_type": "code",
     "collapsed": false,
     "input": [
      "SNR"
     ],
     "language": "python",
     "metadata": {},
     "outputs": [
      {
       "metadata": {},
       "output_type": "pyout",
       "prompt_number": 453,
       "text": [
        "31.346091458663533"
       ]
      }
     ],
     "prompt_number": 453
    },
    {
     "cell_type": "code",
     "collapsed": false,
     "input": [
      "def SNRfromSphere(Image,Mask,numErode=9):\n",
      "    Mask = ndimage.binary_erosion(Mask,iterations=numErode)\n",
      "    MaskIdx = find(Mask)\n",
      "    x,y,z = ind2sub(3,Image.shape,MaskIdx)\n",
      "    o = ones ((len(MaskIdx)));\n",
      "    X = np.column_stack((o,x,y,z,x*x,x*y,x*z,y*y,y*z,z*z))\n",
      "    Y = Image[Mask]\n",
      "    fitCoeffs,_,_,_ = np.linalg.lstsq(X,Y)\n",
      "    smoothfit = np.dot(X,fitCoeffs[:,None])\n",
      "    NoiseData = Y - smoothfit[:,0]\n",
      "    Noise = std ( NoiseData )\n",
      "    Signal = float(np.sum(Image[Mask]))/len(MaskIdx)\n",
      "    SNR = Signal / Noise\n",
      "    return SNR, Signal, Noise"
     ],
     "language": "python",
     "metadata": {},
     "outputs": [],
     "prompt_number": 14
    },
    {
     "cell_type": "markdown",
     "metadata": {},
     "source": [
      "Try the worse image"
     ]
    },
    {
     "cell_type": "code",
     "collapsed": false,
     "input": [
      "def optimizedSphere(data,thr):\n",
      "    \n",
      "    #get a point in the big sphere\n",
      "    labels_tmp,nlabels = label(data>thr)\n",
      "    _,idx = get_area(labels_tmp) #gets the label index with the largest area\n",
      "    coords = np.asarray(np.nonzero(labels_tmp==idx))\n",
      "    savecoord = coords[:,coords.shape[-1]/2]# some random coordinate in (hopefully) the biggest blob\n",
      "    print savecoord\n",
      "    thrs = hist_bin_thr(data,requiredVolume)\n",
      "    sss= generate_binary_structure(3,3) # Even diagonal voxels are connected.\n",
      "    #requiredVolume = 0.5*targetVolume\n",
      "    areas = []\n",
      "    goodThrs = []\n",
      "    for i,thr in enumerate(thrs):\n",
      "        data_bin = data>thr\n",
      "        labelImg, nlabels = label(data_bin,structure=sss)\n",
      "        A,newIdx = get_area(labelImg)\n",
      "        bigSphere = labelImg == newIdx\n",
      "        if bigSphere[tuple(savecoord)]:\n",
      "            print \"True, \", thr\n",
      "            areas.append(A)\n",
      "            goodThrs.append(thr)\n",
      "        else:\n",
      "            print \"False! Yay\"\n",
      "            break\n",
      "       \n",
      "    bestLabel, _ = label(data>np.array(goodThrs)[argmax(diff(areas))-1])\n",
      "    _,idx = get_area(bestLabel)\n",
      "    bestLabel = binary_fill_holes(bestLabel==idx)\n",
      "    return bestLabel"
     ],
     "language": "python",
     "metadata": {},
     "outputs": [],
     "prompt_number": 75
    },
    {
     "cell_type": "code",
     "collapsed": false,
     "input": [
      "img,data,aff,hdr,RAS = load_nifti('/data/henry6/keshavan/phantom/nii/phantom_15Apr14/020-MPRAGE.nii.gz')"
     ],
     "language": "python",
     "metadata": {},
     "outputs": [
      {
       "output_type": "stream",
       "stream": "stdout",
       "text": [
        "Warning: FOV smaller than nominal: 200 > [ 176.  240.  256.]\n"
       ]
      }
     ],
     "prompt_number": 28
    },
    {
     "cell_type": "code",
     "collapsed": false,
     "input": [
      "data_bin, thr = bin_data(data)\n",
      "data_bin, areas, labelnums = clean_labels(data_bin)"
     ],
     "language": "python",
     "metadata": {},
     "outputs": [
      {
       "output_type": "stream",
       "stream": "stdout",
       "text": [
        "WARNING\n",
        "required volume:  204727.121259\n",
        "found 139240 voxels only\n",
        "Warning: Using Histogram Binning\n",
        "WARNING"
       ]
      },
      {
       "output_type": "stream",
       "stream": "stdout",
       "text": [
        "\n",
        "required volume:  204727.121259\n",
        "found 198828 voxels only\n",
        "Found enough voxels with threshold"
       ]
      },
      {
       "output_type": "stream",
       "stream": "stdout",
       "text": [
        " 258.738\n"
       ]
      }
     ],
     "prompt_number": 32
    },
    {
     "cell_type": "code",
     "collapsed": false,
     "input": [
      "nib.Nifti1Image(data_bin.astype(float),aff).to_filename('data_bin.nii.gz')"
     ],
     "language": "python",
     "metadata": {},
     "outputs": [],
     "prompt_number": 33
    },
    {
     "cell_type": "code",
     "collapsed": false,
     "input": [
      "#bigSphere = optimizedSphere(data,thr)\n",
      "bigSphere = optimizedSphere(data,thr)"
     ],
     "language": "python",
     "metadata": {},
     "outputs": [
      {
       "output_type": "stream",
       "stream": "stdout",
       "text": [
        "[ 81 129 136]\n",
        "True, "
       ]
      },
      {
       "output_type": "stream",
       "stream": "stdout",
       "text": [
        " 260.225\n",
        "True, "
       ]
      },
      {
       "output_type": "stream",
       "stream": "stdout",
       "text": [
        " 258.738\n",
        "True, "
       ]
      },
      {
       "output_type": "stream",
       "stream": "stdout",
       "text": [
        " 257.251\n",
        "True, "
       ]
      },
      {
       "output_type": "stream",
       "stream": "stdout",
       "text": [
        " 255.764\n",
        "True, "
       ]
      },
      {
       "output_type": "stream",
       "stream": "stdout",
       "text": [
        " 254.277\n",
        "True, "
       ]
      },
      {
       "output_type": "stream",
       "stream": "stdout",
       "text": [
        " 252.79\n",
        "True, "
       ]
      },
      {
       "output_type": "stream",
       "stream": "stdout",
       "text": [
        " 251.303\n",
        "True, "
       ]
      },
      {
       "output_type": "stream",
       "stream": "stdout",
       "text": [
        " 249.816\n",
        "True, "
       ]
      },
      {
       "output_type": "stream",
       "stream": "stdout",
       "text": [
        " 248.329\n",
        "True, "
       ]
      },
      {
       "output_type": "stream",
       "stream": "stdout",
       "text": [
        " 246.842\n",
        "True, "
       ]
      },
      {
       "output_type": "stream",
       "stream": "stdout",
       "text": [
        " 245.355\n",
        "True, "
       ]
      },
      {
       "output_type": "stream",
       "stream": "stdout",
       "text": [
        " 243.868\n",
        "True, "
       ]
      },
      {
       "output_type": "stream",
       "stream": "stdout",
       "text": [
        " 242.381\n",
        "True, "
       ]
      },
      {
       "output_type": "stream",
       "stream": "stdout",
       "text": [
        " 240.894\n",
        "True, "
       ]
      },
      {
       "output_type": "stream",
       "stream": "stdout",
       "text": [
        " 239.407\n",
        "True, "
       ]
      },
      {
       "output_type": "stream",
       "stream": "stdout",
       "text": [
        " 237.92\n",
        "True, "
       ]
      },
      {
       "output_type": "stream",
       "stream": "stdout",
       "text": [
        " 236.433\n",
        "False! Yay"
       ]
      },
      {
       "output_type": "stream",
       "stream": "stdout",
       "text": [
        "\n"
       ]
      }
     ],
     "prompt_number": 76
    },
    {
     "cell_type": "code",
     "collapsed": false,
     "input": [
      "nib.Nifti1Image(bigSphere.astype(float),aff).to_filename('bigSphere.nii.gz')"
     ],
     "language": "python",
     "metadata": {},
     "outputs": [],
     "prompt_number": 77
    },
    {
     "cell_type": "code",
     "collapsed": false,
     "input": [
      "SNR,Signal,Noise = SNRfromSphere(data,bigSphere)"
     ],
     "language": "python",
     "metadata": {},
     "outputs": [],
     "prompt_number": 78
    },
    {
     "cell_type": "code",
     "collapsed": false,
     "input": [
      "SNR"
     ],
     "language": "python",
     "metadata": {},
     "outputs": [
      {
       "metadata": {},
       "output_type": "pyout",
       "prompt_number": 79,
       "text": [
        "18.776356365535655"
       ]
      }
     ],
     "prompt_number": 79
    },
    {
     "cell_type": "code",
     "collapsed": false,
     "input": [
      "print Signal"
     ],
     "language": "python",
     "metadata": {},
     "outputs": [
      {
       "output_type": "stream",
       "stream": "stdout",
       "text": [
        "270.557052175\n"
       ]
      }
     ],
     "prompt_number": 80
    },
    {
     "cell_type": "code",
     "collapsed": false,
     "input": [
      "print Noise"
     ],
     "language": "python",
     "metadata": {},
     "outputs": [
      {
       "output_type": "stream",
       "stream": "stdout",
       "text": [
        "14.4094544707\n"
       ]
      }
     ],
     "prompt_number": 81
    },
    {
     "cell_type": "code",
     "collapsed": false,
     "input": [],
     "language": "python",
     "metadata": {},
     "outputs": []
    }
   ],
   "metadata": {}
  }
 ]
}