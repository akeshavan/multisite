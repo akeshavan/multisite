{
 "metadata": {
  "name": ""
 },
 "nbformat": 3,
 "nbformat_minor": 0,
 "worksheets": [
  {
   "cells": [
    {
     "cell_type": "heading",
     "level": 1,
     "metadata": {},
     "source": [
      "Converting Dicoms to Niftis for reBUILD"
     ]
    },
    {
     "cell_type": "markdown",
     "metadata": {},
     "source": [
      "Imports:"
     ]
    },
    {
     "cell_type": "code",
     "collapsed": false,
     "input": [
      "%pylab inline\n",
      "import os\n",
      "from glob import glob\n",
      "import pandas as pd"
     ],
     "language": "python",
     "metadata": {},
     "outputs": [
      {
       "output_type": "stream",
       "stream": "stdout",
       "text": [
        "Populating the interactive namespace from numpy and matplotlib\n"
       ]
      }
     ],
     "prompt_number": 4
    },
    {
     "cell_type": "markdown",
     "metadata": {},
     "source": [
      "Subjects:"
     ]
    },
    {
     "cell_type": "code",
     "collapsed": false,
     "input": [
      "subjects = [x.split('/')[-1] for x in sorted(glob(\"/data/henry6/study_reBUILD/ms*\"))]\n",
      "print subjects"
     ],
     "language": "python",
     "metadata": {},
     "outputs": [
      {
       "output_type": "stream",
       "stream": "stdout",
       "text": [
        "['ms1649', 'ms1724', 'ms1725', 'ms1727', 'ms1728', 'ms1731', 'ms1734', 'ms1736', 'ms1737', 'ms1746']\n"
       ]
      }
     ],
     "prompt_number": 5
    },
    {
     "cell_type": "markdown",
     "metadata": {},
     "source": [
      "Make a table to keep track of parameters for each subject:"
     ]
    },
    {
     "cell_type": "code",
     "collapsed": false,
     "input": [
      "df = pd.DataFrame(data={\"subject_id\":subjects})"
     ],
     "language": "python",
     "metadata": {},
     "outputs": [],
     "prompt_number": 6
    },
    {
     "cell_type": "code",
     "collapsed": false,
     "input": [
      "df"
     ],
     "language": "python",
     "metadata": {},
     "outputs": [
      {
       "html": [
        "<div style=\"max-height:1000px;max-width:1500px;overflow:auto;\">\n",
        "<table border=\"1\" class=\"dataframe\">\n",
        "  <thead>\n",
        "    <tr style=\"text-align: right;\">\n",
        "      <th></th>\n",
        "      <th>subject_id</th>\n",
        "    </tr>\n",
        "  </thead>\n",
        "  <tbody>\n",
        "    <tr>\n",
        "      <th>0</th>\n",
        "      <td> ms1649</td>\n",
        "    </tr>\n",
        "    <tr>\n",
        "      <th>1</th>\n",
        "      <td> ms1724</td>\n",
        "    </tr>\n",
        "    <tr>\n",
        "      <th>2</th>\n",
        "      <td> ms1725</td>\n",
        "    </tr>\n",
        "    <tr>\n",
        "      <th>3</th>\n",
        "      <td> ms1727</td>\n",
        "    </tr>\n",
        "    <tr>\n",
        "      <th>4</th>\n",
        "      <td> ms1728</td>\n",
        "    </tr>\n",
        "    <tr>\n",
        "      <th>5</th>\n",
        "      <td> ms1731</td>\n",
        "    </tr>\n",
        "    <tr>\n",
        "      <th>6</th>\n",
        "      <td> ms1734</td>\n",
        "    </tr>\n",
        "    <tr>\n",
        "      <th>7</th>\n",
        "      <td> ms1736</td>\n",
        "    </tr>\n",
        "    <tr>\n",
        "      <th>8</th>\n",
        "      <td> ms1737</td>\n",
        "    </tr>\n",
        "    <tr>\n",
        "      <th>9</th>\n",
        "      <td> ms1746</td>\n",
        "    </tr>\n",
        "  </tbody>\n",
        "</table>\n",
        "</div>"
       ],
       "metadata": {},
       "output_type": "pyout",
       "prompt_number": 7,
       "text": [
        "  subject_id\n",
        "0     ms1649\n",
        "1     ms1724\n",
        "2     ms1725\n",
        "3     ms1727\n",
        "4     ms1728\n",
        "5     ms1731\n",
        "6     ms1734\n",
        "7     ms1736\n",
        "8     ms1737\n",
        "9     ms1746"
       ]
      }
     ],
     "prompt_number": 7
    },
    {
     "cell_type": "markdown",
     "metadata": {},
     "source": [
      "Find our data:"
     ]
    },
    {
     "cell_type": "code",
     "collapsed": false,
     "input": [
      "data_dir_template = \"/data/henry6/study_reBUILD/%s/01/E1\""
     ],
     "language": "python",
     "metadata": {},
     "outputs": [],
     "prompt_number": 8
    },
    {
     "cell_type": "code",
     "collapsed": false,
     "input": [
      "df[\"dicom_data\"] = df[\"subject_id\"].map(lambda x: data_dir_template%x)"
     ],
     "language": "python",
     "metadata": {},
     "outputs": [],
     "prompt_number": 9
    },
    {
     "cell_type": "code",
     "collapsed": false,
     "input": [
      "df"
     ],
     "language": "python",
     "metadata": {},
     "outputs": [
      {
       "html": [
        "<div style=\"max-height:1000px;max-width:1500px;overflow:auto;\">\n",
        "<table border=\"1\" class=\"dataframe\">\n",
        "  <thead>\n",
        "    <tr style=\"text-align: right;\">\n",
        "      <th></th>\n",
        "      <th>subject_id</th>\n",
        "      <th>dicom_data</th>\n",
        "    </tr>\n",
        "  </thead>\n",
        "  <tbody>\n",
        "    <tr>\n",
        "      <th>0</th>\n",
        "      <td> ms1649</td>\n",
        "      <td> /data/henry6/study_reBUILD/ms1649/01/E1</td>\n",
        "    </tr>\n",
        "    <tr>\n",
        "      <th>1</th>\n",
        "      <td> ms1724</td>\n",
        "      <td> /data/henry6/study_reBUILD/ms1724/01/E1</td>\n",
        "    </tr>\n",
        "    <tr>\n",
        "      <th>2</th>\n",
        "      <td> ms1725</td>\n",
        "      <td> /data/henry6/study_reBUILD/ms1725/01/E1</td>\n",
        "    </tr>\n",
        "    <tr>\n",
        "      <th>3</th>\n",
        "      <td> ms1727</td>\n",
        "      <td> /data/henry6/study_reBUILD/ms1727/01/E1</td>\n",
        "    </tr>\n",
        "    <tr>\n",
        "      <th>4</th>\n",
        "      <td> ms1728</td>\n",
        "      <td> /data/henry6/study_reBUILD/ms1728/01/E1</td>\n",
        "    </tr>\n",
        "    <tr>\n",
        "      <th>5</th>\n",
        "      <td> ms1731</td>\n",
        "      <td> /data/henry6/study_reBUILD/ms1731/01/E1</td>\n",
        "    </tr>\n",
        "    <tr>\n",
        "      <th>6</th>\n",
        "      <td> ms1734</td>\n",
        "      <td> /data/henry6/study_reBUILD/ms1734/01/E1</td>\n",
        "    </tr>\n",
        "    <tr>\n",
        "      <th>7</th>\n",
        "      <td> ms1736</td>\n",
        "      <td> /data/henry6/study_reBUILD/ms1736/01/E1</td>\n",
        "    </tr>\n",
        "    <tr>\n",
        "      <th>8</th>\n",
        "      <td> ms1737</td>\n",
        "      <td> /data/henry6/study_reBUILD/ms1737/01/E1</td>\n",
        "    </tr>\n",
        "    <tr>\n",
        "      <th>9</th>\n",
        "      <td> ms1746</td>\n",
        "      <td> /data/henry6/study_reBUILD/ms1746/01/E1</td>\n",
        "    </tr>\n",
        "  </tbody>\n",
        "</table>\n",
        "</div>"
       ],
       "metadata": {},
       "output_type": "pyout",
       "prompt_number": 10,
       "text": [
        "  subject_id                               dicom_data\n",
        "0     ms1649  /data/henry6/study_reBUILD/ms1649/01/E1\n",
        "1     ms1724  /data/henry6/study_reBUILD/ms1724/01/E1\n",
        "2     ms1725  /data/henry6/study_reBUILD/ms1725/01/E1\n",
        "3     ms1727  /data/henry6/study_reBUILD/ms1727/01/E1\n",
        "4     ms1728  /data/henry6/study_reBUILD/ms1728/01/E1\n",
        "5     ms1731  /data/henry6/study_reBUILD/ms1731/01/E1\n",
        "6     ms1734  /data/henry6/study_reBUILD/ms1734/01/E1\n",
        "7     ms1736  /data/henry6/study_reBUILD/ms1736/01/E1\n",
        "8     ms1737  /data/henry6/study_reBUILD/ms1737/01/E1\n",
        "9     ms1746  /data/henry6/study_reBUILD/ms1746/01/E1"
       ]
      }
     ],
     "prompt_number": 10
    },
    {
     "cell_type": "markdown",
     "metadata": {},
     "source": [
      "Cool. Now lets find series # names for each subject"
     ]
    },
    {
     "cell_type": "code",
     "collapsed": false,
     "input": [
      "for i,s in enumerate(df[\"subject_id\"]):\n",
      "    os.system(\"dti_info %s > /data/henry6/keshavan/data/%s_dicominfo.txt\"%(df[\"dicom_data\"][i],s))"
     ],
     "language": "python",
     "metadata": {},
     "outputs": [],
     "prompt_number": 11
    },
    {
     "cell_type": "code",
     "collapsed": false,
     "input": [
      "ls ../data"
     ],
     "language": "python",
     "metadata": {},
     "outputs": [
      {
       "output_type": "stream",
       "stream": "stdout",
       "text": [
        "\u001b[00m\u001b[00mfmri.bxh\u001b[00m           \u001b[00mms1649_dicominfo.txt\u001b[00m  \u001b[00mms1727_dicominfo.txt\u001b[00m  \u001b[00mms1734_dicominfo.txt\u001b[00m  \u001b[00mms1746_dicominfo.txt\u001b[00m\r\n",
        "\u001b[00;31mfmri_dtype.nii.gz\u001b[00m  \u001b[00mms1724_dicominfo.txt\u001b[00m  \u001b[00mms1728_dicominfo.txt\u001b[00m  \u001b[00mms1736_dicominfo.txt\u001b[00m  \u001b[00moutput.bxh\u001b[00m\r\n",
        "\u001b[00;31mfmri.nii.gz\u001b[00m        \u001b[00mms1725_dicominfo.txt\u001b[00m  \u001b[00mms1731_dicominfo.txt\u001b[00m  \u001b[00mms1737_dicominfo.txt\u001b[00m\r\n",
        "\u001b[m"
       ]
      }
     ],
     "prompt_number": 12
    },
    {
     "cell_type": "markdown",
     "metadata": {},
     "source": [
      "For fMRI, we need the series name \"RS_ep2d_bold_no_moco_p2\" and we need the MPRAGE \"MPRAGE_iso_1\", and field map \"gre_field_mapping\""
     ]
    },
    {
     "cell_type": "code",
     "collapsed": false,
     "input": [
      "pattern = {\"fMRI\":\"RS_ep2d_bold_no_moco_p2\", \"anatomical\":\"MPRAGE_iso_1\", \"field_map\":\"gre_field_mapping\"}"
     ],
     "language": "python",
     "metadata": {},
     "outputs": [],
     "prompt_number": 13
    },
    {
     "cell_type": "markdown",
     "metadata": {},
     "source": [
      "Initialize empty series for series numbers"
     ]
    },
    {
     "cell_type": "code",
     "collapsed": false,
     "input": [
      "for keys in pattern.keys():\n",
      "    df[keys] = pd.Series([0]*len(df))"
     ],
     "language": "python",
     "metadata": {},
     "outputs": [],
     "prompt_number": 14
    },
    {
     "cell_type": "markdown",
     "metadata": {},
     "source": [
      "Function that takes dicominfo files and matches series names with series numbers:"
     ]
    },
    {
     "cell_type": "code",
     "collapsed": false,
     "input": [
      "def organize(subject_id):\n",
      "    with open(\"../data/%s_dicominfo.txt\"%subject_id,\"r\") as f:\n",
      "        for line in f.readlines():\n",
      "            foo = line.split(\"  \")\n",
      "            if len(foo) > 2:\n",
      "                seriesNum = int(foo[0][-2:])\n",
      "                seriesName = foo[1][:-3]\n",
      "                for key in pattern.keys():\n",
      "                    if seriesName == pattern[key]:\n",
      "                        df[key][df[\"subject_id\"]==subject_id] = seriesNum\n",
      "    "
     ],
     "language": "python",
     "metadata": {},
     "outputs": [],
     "prompt_number": 15
    },
    {
     "cell_type": "code",
     "collapsed": false,
     "input": [
      "df[\"subject_id\"].map(organize);"
     ],
     "language": "python",
     "metadata": {},
     "outputs": [],
     "prompt_number": 16
    },
    {
     "cell_type": "code",
     "collapsed": false,
     "input": [
      "df"
     ],
     "language": "python",
     "metadata": {},
     "outputs": [
      {
       "html": [
        "<div style=\"max-height:1000px;max-width:1500px;overflow:auto;\">\n",
        "<table border=\"1\" class=\"dataframe\">\n",
        "  <thead>\n",
        "    <tr style=\"text-align: right;\">\n",
        "      <th></th>\n",
        "      <th>subject_id</th>\n",
        "      <th>dicom_data</th>\n",
        "      <th>fMRI</th>\n",
        "      <th>field_map</th>\n",
        "      <th>anatomical</th>\n",
        "    </tr>\n",
        "  </thead>\n",
        "  <tbody>\n",
        "    <tr>\n",
        "      <th>0</th>\n",
        "      <td> ms1649</td>\n",
        "      <td> /data/henry6/study_reBUILD/ms1649/01/E1</td>\n",
        "      <td> 49</td>\n",
        "      <td> 48</td>\n",
        "      <td> 19</td>\n",
        "    </tr>\n",
        "    <tr>\n",
        "      <th>1</th>\n",
        "      <td> ms1724</td>\n",
        "      <td> /data/henry6/study_reBUILD/ms1724/01/E1</td>\n",
        "      <td> 48</td>\n",
        "      <td> 47</td>\n",
        "      <td> 18</td>\n",
        "    </tr>\n",
        "    <tr>\n",
        "      <th>2</th>\n",
        "      <td> ms1725</td>\n",
        "      <td> /data/henry6/study_reBUILD/ms1725/01/E1</td>\n",
        "      <td> 47</td>\n",
        "      <td> 46</td>\n",
        "      <td> 17</td>\n",
        "    </tr>\n",
        "    <tr>\n",
        "      <th>3</th>\n",
        "      <td> ms1727</td>\n",
        "      <td> /data/henry6/study_reBUILD/ms1727/01/E1</td>\n",
        "      <td> 47</td>\n",
        "      <td> 46</td>\n",
        "      <td> 17</td>\n",
        "    </tr>\n",
        "    <tr>\n",
        "      <th>4</th>\n",
        "      <td> ms1728</td>\n",
        "      <td> /data/henry6/study_reBUILD/ms1728/01/E1</td>\n",
        "      <td> 49</td>\n",
        "      <td> 48</td>\n",
        "      <td> 19</td>\n",
        "    </tr>\n",
        "    <tr>\n",
        "      <th>5</th>\n",
        "      <td> ms1731</td>\n",
        "      <td> /data/henry6/study_reBUILD/ms1731/01/E1</td>\n",
        "      <td> 47</td>\n",
        "      <td> 46</td>\n",
        "      <td> 17</td>\n",
        "    </tr>\n",
        "    <tr>\n",
        "      <th>6</th>\n",
        "      <td> ms1734</td>\n",
        "      <td> /data/henry6/study_reBUILD/ms1734/01/E1</td>\n",
        "      <td> 52</td>\n",
        "      <td> 51</td>\n",
        "      <td> 17</td>\n",
        "    </tr>\n",
        "    <tr>\n",
        "      <th>7</th>\n",
        "      <td> ms1736</td>\n",
        "      <td> /data/henry6/study_reBUILD/ms1736/01/E1</td>\n",
        "      <td> 49</td>\n",
        "      <td> 48</td>\n",
        "      <td> 19</td>\n",
        "    </tr>\n",
        "    <tr>\n",
        "      <th>8</th>\n",
        "      <td> ms1737</td>\n",
        "      <td> /data/henry6/study_reBUILD/ms1737/01/E1</td>\n",
        "      <td> 47</td>\n",
        "      <td> 46</td>\n",
        "      <td> 17</td>\n",
        "    </tr>\n",
        "    <tr>\n",
        "      <th>9</th>\n",
        "      <td> ms1746</td>\n",
        "      <td> /data/henry6/study_reBUILD/ms1746/01/E1</td>\n",
        "      <td> 48</td>\n",
        "      <td> 47</td>\n",
        "      <td> 18</td>\n",
        "    </tr>\n",
        "  </tbody>\n",
        "</table>\n",
        "</div>"
       ],
       "metadata": {},
       "output_type": "pyout",
       "prompt_number": 17,
       "text": [
        "  subject_id                               dicom_data  fMRI  field_map  \\\n",
        "0     ms1649  /data/henry6/study_reBUILD/ms1649/01/E1    49         48   \n",
        "1     ms1724  /data/henry6/study_reBUILD/ms1724/01/E1    48         47   \n",
        "2     ms1725  /data/henry6/study_reBUILD/ms1725/01/E1    47         46   \n",
        "3     ms1727  /data/henry6/study_reBUILD/ms1727/01/E1    47         46   \n",
        "4     ms1728  /data/henry6/study_reBUILD/ms1728/01/E1    49         48   \n",
        "5     ms1731  /data/henry6/study_reBUILD/ms1731/01/E1    47         46   \n",
        "6     ms1734  /data/henry6/study_reBUILD/ms1734/01/E1    52         51   \n",
        "7     ms1736  /data/henry6/study_reBUILD/ms1736/01/E1    49         48   \n",
        "8     ms1737  /data/henry6/study_reBUILD/ms1737/01/E1    47         46   \n",
        "9     ms1746  /data/henry6/study_reBUILD/ms1746/01/E1    48         47   \n",
        "\n",
        "   anatomical  \n",
        "0          19  \n",
        "1          18  \n",
        "2          17  \n",
        "3          17  \n",
        "4          19  \n",
        "5          17  \n",
        "6          17  \n",
        "7          19  \n",
        "8          17  \n",
        "9          18  "
       ]
      }
     ],
     "prompt_number": 17
    },
    {
     "cell_type": "code",
     "collapsed": false,
     "input": [
      "df.to_csv(\"/data/henry6/keshavan/data/dicominfo.csv\")"
     ],
     "language": "python",
     "metadata": {},
     "outputs": [],
     "prompt_number": 49
    },
    {
     "cell_type": "heading",
     "level": 3,
     "metadata": {},
     "source": [
      "Lets write a dicom conversion workflow"
     ]
    },
    {
     "cell_type": "markdown",
     "metadata": {},
     "source": [
      "We are using bxh tools. Workflow will look like:\n",
      "    \n",
      "* dicom2bxh\n",
      "* bxh2analyze\n",
      "* outputs - .nii.gzfile, and .bxh file (for provenance later on, hopefully)"
     ]
    },
    {
     "cell_type": "code",
     "collapsed": false,
     "input": [
      "import nipype.pipeline.engine as pe\n",
      "import nipype.interfaces.utility as niu\n",
      "import nipype.interfaces.io as nio"
     ],
     "language": "python",
     "metadata": {},
     "outputs": [],
     "prompt_number": 20
    },
    {
     "cell_type": "code",
     "collapsed": false,
     "input": [
      "wf = pe.Workflow(\"dicom_conversion\")\n",
      "wf.base_dir = \"/data/henry6/keshavan/scratch\"\n",
      "\n",
      "subjectnode = pe.Node(niu.IdentityInterface(fields=[\"subject_id\"]),\n",
      "                      name=\"subject_iterables\")\n",
      "subjectnode.iterables = [(\"subject_id\",subjects)]\n",
      "\n",
      "dcmnode = pe.Node(niu.IdentityInterface(fields=[\"names\"]),name=\"dcm_iterable\")\n",
      "dcmnode.iterables = [(\"names\",pattern.keys())]\n",
      "\n",
      "def get_dcm_dir(df,name,subject_id):\n",
      "    import os\n",
      "    import pandas as pd\n",
      "    import numpy as np\n",
      "    df = pd.read_csv(df)\n",
      "    idx = np.nonzero(df[\"subject_id\"]==subject_id)[0][0]\n",
      "    dcm_dir = os.path.join(df.dicom_data[idx], \n",
      "                        str(df[name][idx]))\n",
      "    print dcm_dir\n",
      "    return dcm_dir\n",
      "\n",
      "getdir = pe.Node(niu.Function(input_names=[\"df\",\"name\",\"subject_id\"],\n",
      "                              output_names=[\"dcm_dir\"],\n",
      "                              function=get_dcm_dir),\n",
      "                 name=\"getdcmdir\")\n",
      "\n",
      "getdir.inputs.df = \"/data/henry6/keshavan/data/dicominfo.csv\"\n",
      "\n",
      "wf.connect(subjectnode,\"subject_id\", getdir, \"subject_id\")\n",
      "wf.connect(dcmnode,\"names\",getdir,\"name\")\n",
      "\n",
      "def dcm2bxh(dcmdir,name):\n",
      "    import os\n",
      "    outfile = os.path.abspath(name+\".bxh\")\n",
      "    cmd = \"dicom2bxh %s/* %s\"%(dcmdir,outfile)\n",
      "    print cmd\n",
      "    os.system(cmd)\n",
      "    return outfile\n",
      "\n",
      "tobxh = pe.Node(niu.Function(input_names=[\"dcmdir\",\"name\"],\n",
      "                             output_names=[\"outfile\"],\n",
      "                             function=dcm2bxh),\n",
      "                name=\"dicom2bxh\")\n",
      "\n",
      "wf.connect(dcmnode,\"names\",tobxh,\"name\")\n",
      "wf.connect(getdir,\"dcm_dir\",tobxh,\"dcmdir\")\n",
      "\n",
      "def bxh2nii(bxhfile):\n",
      "    import os\n",
      "    nii = os.path.abspath(os.path.split(bxhfile)[1].split(\".bxh\")[0])\n",
      "    cmd = \"bxh2analyze --niigz %s %s\"%(bxhfile,nii)\n",
      "    print cmd\n",
      "    os.system(cmd)\n",
      "    if os.path.exists(nii+\".nii.gz\"):\n",
      "        return nii+\".nii.gz\"\n",
      "    else:\n",
      "        raise Exception(\"this didnot work\")\n",
      "\n",
      "tonii = pe.Node(niu.Function(input_names=[\"bxhfile\"],\n",
      "                             output_names=[\"nii\"],\n",
      "                             function=bxh2nii),\n",
      "                name=\"bxh2nii\")\n",
      "\n",
      "wf.connect(tobxh,\"outfile\",tonii,\"bxhfile\")\n",
      "\n",
      "def getsubs(name,subid):\n",
      "    subs = []\n",
      "    subs.append((\"_subject_id_%s\"%subid,\"\"))\n",
      "    subs.append((\"_names_%s\"%name,\"\"))\n",
      "    subs.append((\"blah\",\"\"))\n",
      "    return subs\n",
      "\n",
      "subs = pe.Node(niu.Function(input_names=[\"name\",\"subid\"],\n",
      "                            output_names=[\"subs\"],\n",
      "                            function=getsubs),name=\"subs\")\n",
      "\n",
      "sinker = pe.Node(nio.DataSink(),name=\"sinker\")\n",
      "sinker.inputs.base_directory =  \"/data/henry6/keshavan/data/\"\n",
      "wf.connect(subjectnode,\"subject_id\",sinker,\"container\")\n",
      "wf.connect(tobxh,\"outfile\",sinker,\"blah.@bxh\")\n",
      "wf.connect(tonii,\"nii\",sinker,\"blah.@nii\")\n",
      "wf.connect(subjectnode,\"subject_id\",subs,\"subid\")\n",
      "wf.connect(dcmnode,\"names\",subs,\"name\")\n",
      "wf.connect(subs,\"subs\",sinker,\"substitutions\")\n",
      "\n",
      "#wf.write_graph()"
     ],
     "language": "python",
     "metadata": {},
     "outputs": [],
     "prompt_number": 145
    },
    {
     "cell_type": "code",
     "collapsed": false,
     "input": [
      "from IPython.display import Image"
     ],
     "language": "python",
     "metadata": {},
     "outputs": [],
     "prompt_number": 26
    },
    {
     "cell_type": "code",
     "collapsed": false,
     "input": [
      "Image(\"/data/henry6/keshavan/scratch/dicom_conversion/graph.dot.png\")"
     ],
     "language": "python",
     "metadata": {},
     "outputs": [
      {
       "metadata": {},
       "output_type": "pyout",
       "png": "[encoded data removed]",
       "prompt_number": 27,
       "text": [
        "<IPython.core.display.Image at 0x122c0650>"
       ]
      }
     ],
     "prompt_number": 27
    },
    {
     "cell_type": "code",
     "collapsed": false,
     "input": [
      "#wf.run()"
     ],
     "language": "python",
     "metadata": {},
     "outputs": [],
     "prompt_number": 144
    }
   ],
   "metadata": {}
  }
 ]
}